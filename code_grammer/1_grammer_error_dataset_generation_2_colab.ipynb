{
  "cells": [
    {
      "cell_type": "code",
      "execution_count": 6,
      "id": "d8565149",
      "metadata": {
        "id": "d8565149"
      },
      "outputs": [],
      "source": [
        ""
      ]
    },
    {
      "cell_type": "markdown",
      "id": "f0ebb763",
      "metadata": {
        "id": "f0ebb763"
      },
      "source": [
        "# Make Grammer error dataset\n",
        "\n",
        "220604\n",
        "\n",
        "- [ref1](https://suraj1997lodh.medium.com/grammar-error-handling-and-correction-with-dataset-creation-e446fa6863b8)\n",
        "- [ref2](https://github.com/suraj6017/GRAMMAR_ERROR_HANDLING)"
      ]
    },
    {
      "cell_type": "code",
      "execution_count": 7,
      "id": "85a75921",
      "metadata": {
        "code_folding": [
          0
        ],
        "id": "85a75921"
      },
      "outputs": [],
      "source": [
        "## load\n",
        "import random\n",
        "from tqdm import tqdm\n",
        "import pandas as pd\n",
        "import numpy as np\n",
        "import re\n",
        "import os"
      ]
    },
    {
      "cell_type": "code",
      "execution_count": 8,
      "id": "3503a7f4",
      "metadata": {
        "code_folding": [
          0,
          1,
          35
        ],
        "colab": {
          "base_uri": "https://localhost:8080/"
        },
        "id": "3503a7f4",
        "outputId": "4f6cc05a-8d85-4b8d-dfef-68c7eb744362"
      },
      "outputs": [
        {
          "output_type": "stream",
          "name": "stdout",
          "text": [
            "ï»¿\"Well, Prince, so Genoa and Lucca are now just family estates of the\n",
            "Buonapartes\n",
            "->   ï   Well  Prince  so Genoa and Lucca are now just family estates of the Buonapartes\n"
          ]
        }
      ],
      "source": [
        "## functions\n",
        "def pre_process(sample):\n",
        "\n",
        "    tags = re.compile('<.*?>')\n",
        "    sample = re.sub(tags, '', sample)  # tag 제거\n",
        "    \n",
        "    sample = re.sub(r'[^\\w]', ' ', sample)\n",
        "\n",
        "    sample = re.sub(\"[\\(\\[].*?[\\)\\]]\", \"\", sample)\n",
        "    sample =  sample.replace('\\t', ' ').replace('\\n', ' ').replace('-', '')#.replace(' ', '')\n",
        "\n",
        "    def decontracted(phrase):\n",
        "        # specific\n",
        "        phrase = re.sub(r\"won't\", \"will not\", phrase)\n",
        "        phrase = re.sub(r\"can\\'t\", \"can not\", phrase)\n",
        "\n",
        "        # general\n",
        "        phrase = re.sub(r\"n\\'t\", \" not\", phrase)\n",
        "        phrase = re.sub(r\"\\'re\", \" are\", phrase)\n",
        "        phrase = re.sub(r\"\\'s\", \" is\", phrase)\n",
        "        phrase = re.sub(r\"\\'d\", \" would\", phrase)\n",
        "        phrase = re.sub(r\"\\'ll\", \" will\", phrase)\n",
        "        phrase = re.sub(r\"\\'t\", \" not\", phrase)\n",
        "        phrase = re.sub(r\"\\'ve\", \" have\", phrase)\n",
        "        phrase = re.sub(r\"\\'m\", \" am\", phrase)\n",
        "        return phrase\n",
        "    sample = decontracted(sample)\n",
        "\n",
        "    return (sample)\n",
        "\n",
        "tmp  = 'ï»¿\"Well, Prince, so Genoa and Lucca are now just family estates of the\\nBuonapartes'\n",
        "print('%s\\n->   %s'%(tmp, pre_process(tmp)))\n",
        "\n",
        "\n",
        "# 전치사 list\n",
        "preposition = ['about',\n",
        " 'above',\n",
        " 'across',\n",
        " 'after',\n",
        " 'as',\n",
        " 'at',\n",
        " 'before',\n",
        " 'behind',\n",
        " 'between',\n",
        " 'but',\n",
        " 'by',\n",
        " 'for',\n",
        " 'from',\n",
        " 'in',\n",
        " 'to',\n",
        " 'of',\n",
        " 'off',\n",
        " 'on',\n",
        " 'to',\n",
        " 'until',\n",
        " 'up',\n",
        " 'with']"
      ]
    },
    {
      "cell_type": "code",
      "execution_count": 9,
      "id": "6e888dee",
      "metadata": {
        "code_folding": [],
        "colab": {
          "base_uri": "https://localhost:8080/"
        },
        "id": "6e888dee",
        "outputId": "c646043c-6f40-4ce1-980c-9efb1bad1cea"
      },
      "outputs": [
        {
          "output_type": "stream",
          "name": "stderr",
          "text": [
            "100%|██████████| 191885/191885 [00:00<00:00, 2159065.42it/s]\n",
            "100%|██████████| 191885/191885 [00:00<00:00, 1940597.55it/s]\n",
            "100%|██████████| 191885/191885 [00:00<00:00, 1748010.03it/s]"
          ]
        },
        {
          "output_type": "stream",
          "name": "stdout",
          "text": [
            "mean/max/min : 51 / 79 / 11\n",
            "['Answers » Regions » Is Nagorno-Karabakh region part of Armenia?', 'Flaneuring Fun in Maple Creek SK!']\n"
          ]
        },
        {
          "output_type": "stream",
          "name": "stderr",
          "text": [
            "\n"
          ]
        }
      ],
      "source": [
        "## prepare data\n",
        "DATA_ROOT = './'\n",
        "data_name = 'c4_200m_short.csv'  # 55만개\n",
        "# data_name = 'c4_200m_1M.csv'\n",
        "data_path = os.path.join(DATA_ROOT, data_name)\n",
        "df = pd.read_csv(data_path)\n",
        "# print(df.shape)\n",
        "df.head()\n",
        "\n",
        "total_data = df['output'].tolist()\n",
        "\n",
        "data = [tmp for tmp in total_data if len(tmp) < 80]  # 200글자 이하로 자른다, 20% 없어짐\n",
        "# get statistics\n",
        "length_avg = np.array([len(tmp) for tmp in tqdm(data)]).mean()\n",
        "length_max = max([len(tmp) for tmp in tqdm(data)])\n",
        "length_min = min([len(tmp) for tmp in tqdm(data)])\n",
        "\n",
        "print('mean/max/min : %d / %d / %d'%(length_avg, length_max, length_min))\n",
        "\n",
        "print(data[:2])"
      ]
    },
    {
      "cell_type": "code",
      "execution_count": 10,
      "id": "144e3c2e",
      "metadata": {
        "code_folding": [
          0,
          1,
          29,
          69,
          92,
          134
        ],
        "colab": {
          "base_uri": "https://localhost:8080/"
        },
        "id": "144e3c2e",
        "outputId": "4e79f1d4-3865-4fdf-fbf4-5e4ce112887a"
      },
      "outputs": [
        {
          "output_type": "stream",
          "name": "stdout",
          "text": [
            "[1_Spelling_Error] International orders are shipped about => International orders are shipped abott\n",
            "[2_Replace_Preposition] The College Council is the primary student organization in the College of Public Health and Health Professions at the University of Florida => The College Council is the primary student organizbeforeion after the College after Public Health and Health Prafteressions before the University after Florida\n",
            "[3_Delete_Preposition] International orders are shipped about => International orders are shipped \n",
            "[4_Delete_Article] An international orders are shipped about => international orders are shipped about\n",
            "[5_Repete_Word] An international orders are shipped about => An international orders are shipped shipped about\n",
            "[6_Delete_Word] An international orders are shipped about => An international are shipped about\n"
          ]
        }
      ],
      "source": [
        "## Error functions\n",
        "def generate_error_1_spelling_error(sentence, verbose=False):\n",
        "    ## 1_SPELLING ERROR(글자 오타생성)\n",
        "    # 문장안에서 두 글자를 랜덤으로 선택한 후 교체\n",
        "    # abcde -> adcde, b를 d로 교체한다\n",
        "    original_sentence = sentence\n",
        "    len_sentence = len(sentence)\n",
        "\n",
        "    x = random.randint(0,len_sentence-1)\n",
        "    y = random.randint(0,len_sentence-1)\n",
        "    \n",
        "    if (len_sentence > 5) and (sentence[x] != ' '):\n",
        "        # 띄어쓰기는 제외\n",
        "        error_sentence = sentence.replace(sentence[x], sentence[y])\n",
        "    else:\n",
        "        error_sentence = sentence\n",
        "        \n",
        "    error_sentence = re.sub(' +', ' ', error_sentence)\n",
        "        \n",
        "    if verbose:\n",
        "        print(('[1_Spelling_Error] %s => %s'%(original_sentence, error_sentence)))\n",
        "    \n",
        "    return error_sentence\n",
        "\n",
        "sentence = 'International orders are shipped about'\n",
        "error_sentence = generate_error_1_spelling_error(sentence, verbose=True)\n",
        "\n",
        "\n",
        "\n",
        "def generate_error_2_replace_preposition(sentence, verbose=False, max_preposition_replace_number=3):\n",
        "    ## 2_전치사 교체\n",
        "    original_sentence = sentence\n",
        "    \n",
        "    # max_preposition_replace_number(3개)가 넘으면 3개까지만 오염시키자\n",
        "#     max_preposition_replace_number = 3\n",
        "    preposition_idx = []\n",
        "    for idx, word in enumerate(sentence.split()):\n",
        "        if word in preposition:\n",
        "            preposition_idx.append(idx)\n",
        "    preposition_idx_save = preposition_idx\n",
        "    if len(preposition_idx) > max_preposition_replace_number:\n",
        "        preposition_idx = random.sample(preposition_idx, max_preposition_replace_number)\n",
        "        \n",
        "#     print(preposition_idx, preposition_idx_save)\n",
        "    for idx, word in enumerate(sentence.split()):\n",
        "\n",
        "        if idx in preposition_idx:\n",
        "#             print(word)\n",
        "            replace_preposition_idx = random.randint(0, len(preposition)-1)\n",
        "            replace_preposition = preposition[replace_preposition_idx]\n",
        "            sentence = re.sub(word , replace_preposition, sentence)    \n",
        "\n",
        "\n",
        "    error_sentence = sentence\n",
        "    error_sentence = re.sub(' +', ' ', error_sentence)\n",
        "    if verbose:\n",
        "        if len(error_sentence) > len(original_sentence)+10:\n",
        "            print(('[2_Replace_Preposition] %s => %s'%(original_sentence, error_sentence)))\n",
        "        \n",
        "        \n",
        "    return error_sentence\n",
        "\n",
        "# sentence = 'One of the cardinal factors to consider when trying to decide on which kind of shipping to settle for is the market difference'\n",
        "sentence = 'The College Council is the primary student organization in the College of Public Health and Health Professions at the University of Florida'\n",
        "\n",
        "error_sentence = generate_error_2_replace_preposition(sentence, verbose=True)\n",
        "\n",
        "\n",
        "\n",
        "def generate_error_3_delete_preposition(sentence, verbose=False):\n",
        "    ## 3_전치사 삭제\n",
        "    original_sentence = sentence\n",
        "\n",
        "    word_list = sentence.split()\n",
        "    preposition_position_idx = [idx for idx, word in enumerate(word_list) if word in preposition]\n",
        "\n",
        "    if len(preposition_position_idx)==0:\n",
        "        error_sentence=sentence\n",
        "    else:\n",
        "        delete_preposition_idx = random.choice(preposition_position_idx)\n",
        "        error_sentence = re.sub(word_list[delete_preposition_idx] , '' , sentence)\n",
        "\n",
        "    error_sentence = re.sub(' +', ' ', error_sentence)\n",
        "    if verbose:\n",
        "        print(('[3_Delete_Preposition] %s => %s'%(original_sentence, error_sentence)))\n",
        "    return error_sentence\n",
        "\n",
        "sentence = 'International orders are shipped about'\n",
        "error_sentence = generate_error_3_delete_preposition(sentence, verbose=True)    \n",
        "\n",
        "\n",
        "\n",
        "def generate_error_4_delete_definite_article(sentence, verbose=False):\n",
        "    ## 4_Omiting the definite article(정관사 생략)\n",
        "    # a/an/the 정관사를 생략\n",
        "    original_sentence = sentence\n",
        "\n",
        "    sentence = re.sub('an ' , '' , sentence)\n",
        "    sentence = re.sub('a ' , '' , sentence)\n",
        "    error_sentence = re.sub('the ' , '' , sentence)\n",
        "    sentence = re.sub('An ' , '' , sentence)\n",
        "    sentence = re.sub('A ' , '' , sentence)\n",
        "    error_sentence = re.sub('The ' , '' , sentence)\n",
        "    \n",
        "    error_sentence = re.sub(' +', ' ', error_sentence)\n",
        "    if verbose:\n",
        "        print(('[4_Delete_Article] %s => %s'%(original_sentence, error_sentence)))\n",
        "    return error_sentence\n",
        "\n",
        "sentence = 'An international orders are shipped about'\n",
        "error_sentence = generate_error_4_delete_definite_article(sentence, verbose=True)        \n",
        "\n",
        "\n",
        "\n",
        "def generate_error_5_repete_word(sentence, verbose=False):\n",
        "    ## 5_REPEATING A WORD IN SENTENCE\n",
        "    # 특정 단어를 한번더 반복\n",
        "    # A B C D -> A A B C D\n",
        "    original_sentence = sentence\n",
        "    rep = sentence.split(' ')\n",
        "    w = random.randint(0,len(rep) - 1)\n",
        "    f = rep[:w + 1] + [rep[w]] + rep[w+1:]\n",
        "    error_sentence = ' '.join(f)\n",
        "    \n",
        "    error_sentence = re.sub(' +', ' ', error_sentence)\n",
        "    if verbose:\n",
        "        print(('[5_Repete_Word] %s => %s'%(original_sentence, error_sentence)))\n",
        "    return error_sentence\n",
        "\n",
        "sentence = 'An international orders are shipped about'\n",
        "error_sentence = generate_error_5_repete_word(sentence, verbose=True)\n",
        "\n",
        "\n",
        "\n",
        "def generate_error_6_delete_word(sentence, verbose=False):\n",
        "    ## 6_deleting_random_word in sentence\n",
        "    # A B C D -> A C D\n",
        "    original_sentence = sentence\n",
        "    delete = sentence.split(' ')\n",
        "    w = random.randint(0, len(delete) - 1)\n",
        "    error_sentence = re.sub(delete[w] , '' , sentence)\n",
        "\n",
        "    error_sentence = re.sub(' +', ' ', error_sentence)\n",
        "    if verbose:\n",
        "        print(('[6_Delete_Word] %s => %s'%(original_sentence, error_sentence)))\n",
        "    return error_sentence\n",
        "\n",
        "sentence = 'An international orders are shipped about'\n",
        "error_sentence = generate_error_6_delete_word(sentence, verbose=True)\n"
      ]
    },
    {
      "cell_type": "code",
      "execution_count": 11,
      "id": "30eaf772",
      "metadata": {
        "code_folding": [
          0
        ],
        "scrolled": false,
        "id": "30eaf772"
      },
      "outputs": [],
      "source": [
        "def generate_error(sentence, K=1, verbose=False):\n",
        "    \n",
        "    # 6개 error 함수 중 한개를 골라 에러문장을 생성한다\n",
        "    generate_error_list = [\n",
        "        generate_error_1_spelling_error,\n",
        "        generate_error_2_replace_preposition,\n",
        "        generate_error_3_delete_preposition,\n",
        "        generate_error_4_delete_definite_article,\n",
        "        generate_error_5_repete_word,\n",
        "        generate_error_6_delete_word,        \n",
        "    ]\n",
        "    # 중복 허용 K개 추출\n",
        "    random_idx_list = [random.choice(list(range(len(generate_error_list)))) for ii in range(K)]    \n",
        "    \n",
        "    original_sentence = sentence\n",
        "    for iii in random_idx_list:\n",
        "        sentence = generate_error_list[iii](sentence, verbose=verbose)\n",
        "        \n",
        "    error_sentence = sentence\n",
        "    return error_sentence.strip()\n",
        "\n",
        "sentence = 'Did you ever need to have a flexible and reliable instrument for fast Partial Discharge  PD  diagnostic campaigns'"
      ]
    },
    {
      "cell_type": "code",
      "execution_count": 11,
      "id": "1938a41c",
      "metadata": {
        "id": "1938a41c"
      },
      "outputs": [],
      "source": [
        ""
      ]
    },
    {
      "cell_type": "markdown",
      "id": "113192cc",
      "metadata": {
        "id": "113192cc"
      },
      "source": [
        "# Generate!"
      ]
    },
    {
      "cell_type": "code",
      "execution_count": 12,
      "id": "a094b834",
      "metadata": {
        "code_folding": [],
        "colab": {
          "base_uri": "https://localhost:8080/"
        },
        "id": "a094b834",
        "outputId": "51c6e107-8652-484a-f210-b1e31f421c79"
      },
      "outputs": [
        {
          "output_type": "stream",
          "name": "stdout",
          "text": [
            "Gerenate 2 error\n"
          ]
        },
        {
          "output_type": "stream",
          "name": "stderr",
          "text": [
            "100%|██████████| 100000/100000 [00:02<00:00, 45984.00it/s]\n",
            "100%|██████████| 100000/100000 [00:04<00:00, 24316.70it/s]\n"
          ]
        },
        {
          "output_type": "stream",
          "name": "stdout",
          "text": [
            "(100000, 2)\n"
          ]
        },
        {
          "output_type": "stream",
          "name": "stderr",
          "text": [
            "100%|██████████| 100000/100000 [00:00<00:00, 1738759.00it/s]\n",
            "100%|██████████| 100000/100000 [00:00<00:00, 1467869.15it/s]\n",
            "100%|██████████| 100000/100000 [00:00<00:00, 1554977.87it/s]\n",
            "100%|██████████| 100000/100000 [00:00<00:00, 1724929.47it/s]\n",
            "100%|██████████| 100000/100000 [00:00<00:00, 1548319.27it/s]\n",
            "100%|██████████| 100000/100000 [00:00<00:00, 1260046.44it/s]\n"
          ]
        },
        {
          "output_type": "stream",
          "name": "stdout",
          "text": [
            "2_correct_mean/max/min : 51 / 79 / 13\n",
            "2_error  _mean/max/min : 48 / 105 / 0\n"
          ]
        }
      ],
      "source": [
        "## apply error to sentence\n",
        "# K = 6  # Error를 몇번 실행?\n",
        "save_path = './'\n",
        "\n",
        "data = data[:100000]\n",
        "\n",
        "for K in [2, 4, 6, 8, 12][:1]:\n",
        "    print('Gerenate %d error'%K)\n",
        "    ###############################################################################\n",
        "    list_sentence_preprocessed = [pre_process(sentence) for sentence in tqdm(data)]\n",
        "    error_list_sentence_preprocessed = [generate_error(sentence, K=K) for sentence in tqdm(list_sentence_preprocessed)]\n",
        "#     error_list_sentence_preprocessed = [generate_error(sentence, K=K, verbose=True) for sentence in tqdm(list_sentence_preprocessed)]    \n",
        "\n",
        "    df_data_error = pd.DataFrame()\n",
        "    df_data_error['correct_sentence'] = list_sentence_preprocessed\n",
        "    df_data_error['error_sentence'] = error_list_sentence_preprocessed\n",
        "    print(df_data_error.shape)\n",
        "    df_data_error.head(5)\n",
        "\n",
        "    # get statistics\n",
        "    correct_length_avg = np.array([len(tmp) for tmp in tqdm(df_data_error['correct_sentence'])]).mean()\n",
        "    correct_length_max = max([len(tmp) for tmp in tqdm(df_data_error['correct_sentence'])])\n",
        "    correct_length_min = min([len(tmp) for tmp in tqdm(df_data_error['correct_sentence'])])\n",
        "\n",
        "    error_length_avg = np.array([len(tmp) for tmp in tqdm(df_data_error['error_sentence'])]).mean()\n",
        "    error_length_max = max([len(tmp) for tmp in tqdm(df_data_error['error_sentence'])])\n",
        "    error_length_min = min([len(tmp) for tmp in tqdm(df_data_error['error_sentence'])])\n",
        "\n",
        "    print('%d_correct_mean/max/min : %d / %d / %d'%(K, correct_length_avg, correct_length_max, correct_length_min))\n",
        "    print('%d_error  _mean/max/min : %d / %d / %d'%(K, error_length_avg, error_length_max, error_length_min))\n",
        "\n",
        "    # save\n",
        "    if not os.path.isdir(save_path): os.mkdir(save_path)\n",
        "    df_data_error.to_csv(os.path.join(save_path, '%s_grammer_error_dataset.csv')%(K), header=True, index=False)\n",
        "    df_data_error['correct_sentence'].to_csv(os.path.join(save_path, '%s_grammer_error_src.txt')%(K), header=False, index=False)\n",
        "    df_data_error['error_sentence'].to_csv(os.path.join(save_path, '%s_grammer_error_tgt.txt')%(K), header=False, index=False)"
      ]
    },
    {
      "cell_type": "code",
      "execution_count": 13,
      "id": "15df9060",
      "metadata": {
        "code_folding": [],
        "colab": {
          "base_uri": "https://localhost:8080/",
          "height": 423
        },
        "id": "15df9060",
        "outputId": "47758750-e9a7-4871-fff1-2951e2822344"
      },
      "outputs": [
        {
          "output_type": "execute_result",
          "data": {
            "text/plain": [
              "                                        correct_sentence  \\\n",
              "0      Answers   Regions   Is Nagorno Karabakh region...   \n",
              "1                      Flaneuring Fun in Maple Creek SK    \n",
              "2      About Private Investigators Ellesmere Port In ...   \n",
              "3      Bake in the oven for 35 mins  scattering the f...   \n",
              "4              informing you of changes in our web site    \n",
              "...                                                  ...   \n",
              "99995              Anyone getting things done is a Kate    \n",
              "99996  Explain how important roles in security planni...   \n",
              "99997  This is the  prayer rug  the scammers are usin...   \n",
              "99998  And then I asked him the question that changed...   \n",
              "99999  Motorola TCA3386 Series Datasheets  TCA3386P  ...   \n",
              "\n",
              "                                          error_sentence  \n",
              "0      Answers Regions Is Nagorno Karabakh region par...  \n",
              "1                            Flaneurg Fun Maple Creek SK  \n",
              "2      About Private Investigators Ellesmere Port In ...  \n",
              "3      Bake in the oven for 35 mins scattering the fl...  \n",
              "4               informing yor of changes in orr web site  \n",
              "...                                                  ...  \n",
              "99995               Anyone getting things done is a Kate  \n",
              "99996  Explain how impo tant oles in secu ity elate t...  \n",
              "99997  This is the prayer rug the scammers are using ...  \n",
              "99998       And I asked him the question that changed my  \n",
              "99999  Motorola TCAss86 Series Datasheets TCAss86P TC...  \n",
              "\n",
              "[100000 rows x 2 columns]"
            ],
            "text/html": [
              "\n",
              "  <div id=\"df-50551545-5529-4716-af98-86e0255f95ec\">\n",
              "    <div class=\"colab-df-container\">\n",
              "      <div>\n",
              "<style scoped>\n",
              "    .dataframe tbody tr th:only-of-type {\n",
              "        vertical-align: middle;\n",
              "    }\n",
              "\n",
              "    .dataframe tbody tr th {\n",
              "        vertical-align: top;\n",
              "    }\n",
              "\n",
              "    .dataframe thead th {\n",
              "        text-align: right;\n",
              "    }\n",
              "</style>\n",
              "<table border=\"1\" class=\"dataframe\">\n",
              "  <thead>\n",
              "    <tr style=\"text-align: right;\">\n",
              "      <th></th>\n",
              "      <th>correct_sentence</th>\n",
              "      <th>error_sentence</th>\n",
              "    </tr>\n",
              "  </thead>\n",
              "  <tbody>\n",
              "    <tr>\n",
              "      <th>0</th>\n",
              "      <td>Answers   Regions   Is Nagorno Karabakh region...</td>\n",
              "      <td>Answers Regions Is Nagorno Karabakh region par...</td>\n",
              "    </tr>\n",
              "    <tr>\n",
              "      <th>1</th>\n",
              "      <td>Flaneuring Fun in Maple Creek SK</td>\n",
              "      <td>Flaneurg Fun Maple Creek SK</td>\n",
              "    </tr>\n",
              "    <tr>\n",
              "      <th>2</th>\n",
              "      <td>About Private Investigators Ellesmere Port In ...</td>\n",
              "      <td>About Private Investigators Ellesmere Port In ...</td>\n",
              "    </tr>\n",
              "    <tr>\n",
              "      <th>3</th>\n",
              "      <td>Bake in the oven for 35 mins  scattering the f...</td>\n",
              "      <td>Bake in the oven for 35 mins scattering the fl...</td>\n",
              "    </tr>\n",
              "    <tr>\n",
              "      <th>4</th>\n",
              "      <td>informing you of changes in our web site</td>\n",
              "      <td>informing yor of changes in orr web site</td>\n",
              "    </tr>\n",
              "    <tr>\n",
              "      <th>...</th>\n",
              "      <td>...</td>\n",
              "      <td>...</td>\n",
              "    </tr>\n",
              "    <tr>\n",
              "      <th>99995</th>\n",
              "      <td>Anyone getting things done is a Kate</td>\n",
              "      <td>Anyone getting things done is a Kate</td>\n",
              "    </tr>\n",
              "    <tr>\n",
              "      <th>99996</th>\n",
              "      <td>Explain how important roles in security planni...</td>\n",
              "      <td>Explain how impo tant oles in secu ity elate t...</td>\n",
              "    </tr>\n",
              "    <tr>\n",
              "      <th>99997</th>\n",
              "      <td>This is the  prayer rug  the scammers are usin...</td>\n",
              "      <td>This is the prayer rug the scammers are using ...</td>\n",
              "    </tr>\n",
              "    <tr>\n",
              "      <th>99998</th>\n",
              "      <td>And then I asked him the question that changed...</td>\n",
              "      <td>And I asked him the question that changed my</td>\n",
              "    </tr>\n",
              "    <tr>\n",
              "      <th>99999</th>\n",
              "      <td>Motorola TCA3386 Series Datasheets  TCA3386P  ...</td>\n",
              "      <td>Motorola TCAss86 Series Datasheets TCAss86P TC...</td>\n",
              "    </tr>\n",
              "  </tbody>\n",
              "</table>\n",
              "<p>100000 rows × 2 columns</p>\n",
              "</div>\n",
              "      <button class=\"colab-df-convert\" onclick=\"convertToInteractive('df-50551545-5529-4716-af98-86e0255f95ec')\"\n",
              "              title=\"Convert this dataframe to an interactive table.\"\n",
              "              style=\"display:none;\">\n",
              "        \n",
              "  <svg xmlns=\"http://www.w3.org/2000/svg\" height=\"24px\"viewBox=\"0 0 24 24\"\n",
              "       width=\"24px\">\n",
              "    <path d=\"M0 0h24v24H0V0z\" fill=\"none\"/>\n",
              "    <path d=\"M18.56 5.44l.94 2.06.94-2.06 2.06-.94-2.06-.94-.94-2.06-.94 2.06-2.06.94zm-11 1L8.5 8.5l.94-2.06 2.06-.94-2.06-.94L8.5 2.5l-.94 2.06-2.06.94zm10 10l.94 2.06.94-2.06 2.06-.94-2.06-.94-.94-2.06-.94 2.06-2.06.94z\"/><path d=\"M17.41 7.96l-1.37-1.37c-.4-.4-.92-.59-1.43-.59-.52 0-1.04.2-1.43.59L10.3 9.45l-7.72 7.72c-.78.78-.78 2.05 0 2.83L4 21.41c.39.39.9.59 1.41.59.51 0 1.02-.2 1.41-.59l7.78-7.78 2.81-2.81c.8-.78.8-2.07 0-2.86zM5.41 20L4 18.59l7.72-7.72 1.47 1.35L5.41 20z\"/>\n",
              "  </svg>\n",
              "      </button>\n",
              "      \n",
              "  <style>\n",
              "    .colab-df-container {\n",
              "      display:flex;\n",
              "      flex-wrap:wrap;\n",
              "      gap: 12px;\n",
              "    }\n",
              "\n",
              "    .colab-df-convert {\n",
              "      background-color: #E8F0FE;\n",
              "      border: none;\n",
              "      border-radius: 50%;\n",
              "      cursor: pointer;\n",
              "      display: none;\n",
              "      fill: #1967D2;\n",
              "      height: 32px;\n",
              "      padding: 0 0 0 0;\n",
              "      width: 32px;\n",
              "    }\n",
              "\n",
              "    .colab-df-convert:hover {\n",
              "      background-color: #E2EBFA;\n",
              "      box-shadow: 0px 1px 2px rgba(60, 64, 67, 0.3), 0px 1px 3px 1px rgba(60, 64, 67, 0.15);\n",
              "      fill: #174EA6;\n",
              "    }\n",
              "\n",
              "    [theme=dark] .colab-df-convert {\n",
              "      background-color: #3B4455;\n",
              "      fill: #D2E3FC;\n",
              "    }\n",
              "\n",
              "    [theme=dark] .colab-df-convert:hover {\n",
              "      background-color: #434B5C;\n",
              "      box-shadow: 0px 1px 3px 1px rgba(0, 0, 0, 0.15);\n",
              "      filter: drop-shadow(0px 1px 2px rgba(0, 0, 0, 0.3));\n",
              "      fill: #FFFFFF;\n",
              "    }\n",
              "  </style>\n",
              "\n",
              "      <script>\n",
              "        const buttonEl =\n",
              "          document.querySelector('#df-50551545-5529-4716-af98-86e0255f95ec button.colab-df-convert');\n",
              "        buttonEl.style.display =\n",
              "          google.colab.kernel.accessAllowed ? 'block' : 'none';\n",
              "\n",
              "        async function convertToInteractive(key) {\n",
              "          const element = document.querySelector('#df-50551545-5529-4716-af98-86e0255f95ec');\n",
              "          const dataTable =\n",
              "            await google.colab.kernel.invokeFunction('convertToInteractive',\n",
              "                                                     [key], {});\n",
              "          if (!dataTable) return;\n",
              "\n",
              "          const docLinkHtml = 'Like what you see? Visit the ' +\n",
              "            '<a target=\"_blank\" href=https://colab.research.google.com/notebooks/data_table.ipynb>data table notebook</a>'\n",
              "            + ' to learn more about interactive tables.';\n",
              "          element.innerHTML = '';\n",
              "          dataTable['output_type'] = 'display_data';\n",
              "          await google.colab.output.renderOutput(dataTable, element);\n",
              "          const docLink = document.createElement('div');\n",
              "          docLink.innerHTML = docLinkHtml;\n",
              "          element.appendChild(docLink);\n",
              "        }\n",
              "      </script>\n",
              "    </div>\n",
              "  </div>\n",
              "  "
            ]
          },
          "metadata": {},
          "execution_count": 13
        }
      ],
      "source": [
        "df_data_error"
      ]
    },
    {
      "cell_type": "code",
      "execution_count": 13,
      "id": "b185c1de",
      "metadata": {
        "id": "b185c1de"
      },
      "outputs": [],
      "source": [
        ""
      ]
    },
    {
      "cell_type": "code",
      "execution_count": 13,
      "id": "cee23e65",
      "metadata": {
        "id": "cee23e65"
      },
      "outputs": [],
      "source": [
        ""
      ]
    },
    {
      "cell_type": "code",
      "execution_count": 13,
      "id": "fe0e0139",
      "metadata": {
        "id": "fe0e0139"
      },
      "outputs": [],
      "source": [
        ""
      ]
    },
    {
      "cell_type": "code",
      "execution_count": 13,
      "id": "4fa3df3f",
      "metadata": {
        "id": "4fa3df3f"
      },
      "outputs": [],
      "source": [
        ""
      ]
    }
  ],
  "metadata": {
    "kernelspec": {
      "display_name": "venv",
      "language": "python",
      "name": "venv"
    },
    "language_info": {
      "codemirror_mode": {
        "name": "ipython",
        "version": 3
      },
      "file_extension": ".py",
      "mimetype": "text/x-python",
      "name": "python",
      "nbconvert_exporter": "python",
      "pygments_lexer": "ipython3",
      "version": "3.6.10"
    },
    "varInspector": {
      "cols": {
        "lenName": 16,
        "lenType": 16,
        "lenVar": 40
      },
      "kernels_config": {
        "python": {
          "delete_cmd_postfix": "",
          "delete_cmd_prefix": "del ",
          "library": "var_list.py",
          "varRefreshCmd": "print(var_dic_list())"
        },
        "r": {
          "delete_cmd_postfix": ") ",
          "delete_cmd_prefix": "rm(",
          "library": "var_list.r",
          "varRefreshCmd": "cat(var_dic_list()) "
        }
      },
      "types_to_exclude": [
        "module",
        "function",
        "builtin_function_or_method",
        "instance",
        "_Feature"
      ],
      "window_display": false
    },
    "colab": {
      "name": "grammer_error_dataset_generation_2_colab.ipynb",
      "provenance": [],
      "collapsed_sections": []
    }
  },
  "nbformat": 4,
  "nbformat_minor": 5
}