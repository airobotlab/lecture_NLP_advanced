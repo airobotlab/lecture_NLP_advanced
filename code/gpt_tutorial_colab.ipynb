{
  "cells": [
    {
      "cell_type": "markdown",
      "metadata": {
        "id": "IcEs1o2fTYGj"
      },
      "source": [
        "# GPT 자세한 코드리뷰\n",
        "\n",
        "[Reference URL](https://keras.io/examples/generative/text_generation_with_miniature_gpt/)\n",
        "\n",
        "220516 고우영"
      ]
    },
    {
      "cell_type": "markdown",
      "metadata": {
        "id": "5npQ8nnpDa44"
      },
      "source": [
        "# Text Generation with miniature GPT\n",
        "\n",
        "**Author:** [Apoorv Nandan](https://twitter.com/NandanApoorv)<br>\n",
        "**Date created:** 2020/05/29<br>\n",
        "**Last modified:** 2020/05/29<br>\n",
        "**Description:** Implement miniature version of GPT and learn to generate text."
      ]
    },
    {
      "cell_type": "markdown",
      "metadata": {
        "id": "FgCwXBOvDa44"
      },
      "source": [
        "## Introduction\n",
        "\n",
        "This example demonstrates autoregressive language modelling using\n",
        "a miniature version of GPT model.\n",
        "The model consists of a single transformer block with causal masking\n",
        "in its attention layer.\n",
        "We use the text from IMDB sentiment classification dataset for training\n",
        "and generate new movie reviews for a given prompt.\n",
        "When using this script with your own data, make sure it has at least\n",
        "1M words.\n",
        "\n",
        "This example should be run with `tf-nightly>=2.3.0-dev20200531` or\n",
        "with tensorflow 2.3 or higher.\n",
        "\n",
        "**References:**\n",
        "\n",
        "- [GPT](https://www.semanticscholar.org/paper/Improving-Language-Understanding-by-Generative-Radford/cd18800a0fe0b668a1cc19f2ec95b5003d0a5035)\n",
        "- [GPT-2](https://www.semanticscholar.org/paper/Language-Models-are-Unsupervised-Multitask-Learners-Radford-Wu/9405cc0d6169988371b2755e573cc28650d14dfe)\n",
        "- [GPT-3](https://arxiv.org/abs/2005.14165)\n"
      ]
    },
    {
      "cell_type": "markdown",
      "metadata": {
        "id": "UgboUM96Da44"
      },
      "source": [
        "## Setup\n"
      ]
    },
    {
      "cell_type": "markdown",
      "metadata": {
        "id": "lBwsdeO0TYGn"
      },
      "source": [
        "!nvidia-smi"
      ]
    },
    {
      "cell_type": "markdown",
      "metadata": {
        "id": "EjxgTDS-TYGn"
      },
      "source": [
        "# 2.8.0버전으로 설치\n",
        "#!pip install tensorflow==2.8.0"
      ]
    },
    {
      "cell_type": "code",
      "execution_count": null,
      "metadata": {
        "colab": {
          "base_uri": "https://localhost:8080/"
        },
        "id": "si2bICMAuplr",
        "outputId": "2526356b-441d-4df4-816c-3ead2dc2ac0c"
      },
      "outputs": [
        {
          "name": "stdout",
          "output_type": "stream",
          "text": [
            "Fri May 13 14:18:55 2022       \n",
            "+-----------------------------------------------------------------------------+\n",
            "| NVIDIA-SMI 460.32.03    Driver Version: 460.32.03    CUDA Version: 11.2     |\n",
            "|-------------------------------+----------------------+----------------------+\n",
            "| GPU  Name        Persistence-M| Bus-Id        Disp.A | Volatile Uncorr. ECC |\n",
            "| Fan  Temp  Perf  Pwr:Usage/Cap|         Memory-Usage | GPU-Util  Compute M. |\n",
            "|                               |                      |               MIG M. |\n",
            "|===============================+======================+======================|\n",
            "|   0  Tesla T4            Off  | 00000000:00:04.0 Off |                    0 |\n",
            "| N/A   40C    P8     9W /  70W |      0MiB / 15109MiB |      0%      Default |\n",
            "|                               |                      |                  N/A |\n",
            "+-------------------------------+----------------------+----------------------+\n",
            "                                                                               \n",
            "+-----------------------------------------------------------------------------+\n",
            "| Processes:                                                                  |\n",
            "|  GPU   GI   CI        PID   Type   Process name                  GPU Memory |\n",
            "|        ID   ID                                                   Usage      |\n",
            "|=============================================================================|\n",
            "|  No running processes found                                                 |\n",
            "+-----------------------------------------------------------------------------+\n"
          ]
        }
      ],
      "source": [
        "!nvidia-smi"
      ]
    },
    {
      "cell_type": "code",
      "execution_count": null,
      "metadata": {
        "colab": {
          "base_uri": "https://localhost:8080/"
        },
        "id": "j7YvpXe9TYGo",
        "outputId": "a929edab-bbd7-4683-b942-50b67b9e46ac"
      },
      "outputs": [
        {
          "name": "stdout",
          "output_type": "stream",
          "text": [
            "TF version : 2.8.0\n",
            "\n",
            "Num GPUs Available : 1\n",
            "\n",
            "[name: \"/device:CPU:0\"\n",
            "device_type: \"CPU\"\n",
            "memory_limit: 268435456\n",
            "locality {\n",
            "}\n",
            "incarnation: 9241766196942243098\n",
            "xla_global_id: -1\n",
            ", name: \"/device:GPU:0\"\n",
            "device_type: \"GPU\"\n",
            "memory_limit: 14465892352\n",
            "locality {\n",
            "  bus_id: 1\n",
            "  links {\n",
            "  }\n",
            "}\n",
            "incarnation: 17601612635952061443\n",
            "physical_device_desc: \"device: 0, name: Tesla T4, pci bus id: 0000:00:04.0, compute capability: 7.5\"\n",
            "xla_global_id: 416903419\n",
            "]\n"
          ]
        }
      ],
      "source": [
        "## TF 버전 확인\n",
        "import tensorflow as tf\n",
        "print('TF version : %s\\n'%tf.__version__)\n",
        "print('Num GPUs Available : %s\\n'%len(tf.config.experimental.list_physical_devices('GPU')))\n",
        "\n",
        "from tensorflow.python.client import device_lib\n",
        "print(device_lib.list_local_devices())"
      ]
    },
    {
      "cell_type": "code",
      "execution_count": null,
      "metadata": {
        "id": "iX81_80iDa45"
      },
      "outputs": [],
      "source": [
        "import tensorflow as tf\n",
        "from tensorflow import keras\n",
        "from tensorflow.keras import layers\n",
        "from tensorflow.keras.layers.experimental.preprocessing import TextVectorization\n",
        "import numpy as np\n",
        "import os\n",
        "import re\n",
        "import string\n",
        "import random"
      ]
    },
    {
      "cell_type": "markdown",
      "metadata": {
        "id": "x7yRoC5vDa45"
      },
      "source": [
        "## Self-attention with causal masking\n",
        "\n",
        "We compute self-attention as usual, but prevent any information to flow\n",
        "from future tokens by masking the upper half of the scaled dot product matrix.\n"
      ]
    },
    {
      "cell_type": "code",
      "execution_count": null,
      "metadata": {
        "code_folding": [
          0
        ],
        "id": "bXMet2MwDa45"
      },
      "outputs": [],
      "source": [
        "class MultiHeadSelfAttention(layers.Layer):\n",
        "    def __init__(self, embed_dim, num_heads=8):\n",
        "        super(MultiHeadSelfAttention, self).__init__()\n",
        "        self.embed_dim = embed_dim\n",
        "        self.num_heads = num_heads\n",
        "        # embedding을 head 개수로 나눠서 계산하므로 에러처리\n",
        "        if embed_dim % num_heads != 0:\n",
        "            raise ValueError(\n",
        "                f\"embedding dimension = {embed_dim} should be divisible by number of heads = \\\n",
        "                {num_heads}\"\n",
        "            )\n",
        "        self.projection_dim = embed_dim // num_heads  # 256 dimension을 8개의 head로 나눠서 계산하기 위해 head 당 dimension 계산\n",
        "        self.query_dense    = layers.Dense(embed_dim)\n",
        "        self.key_dense      = layers.Dense(embed_dim)\n",
        "        self.value_dense    = layers.Dense(embed_dim)\n",
        "        self.combine_heads  = layers.Dense(embed_dim)\n",
        "\n",
        "    @staticmethod\n",
        "    def causal_attention_mask(n_dest, n_src, dtype):\n",
        "        # input : n_dest, n_src = seq_len\n",
        "        # array([[[[1., 0., 0., 0.],\n",
        "        #          [1., 1., 0., 0.],\n",
        "        #          [1., 1., 1., 0.],\n",
        "        #          [1., 1., 1., 1.]]]]       \n",
        "        \"\"\"\n",
        "        1's in the lower triangle, counting from the lower right corner.\n",
        "        \"\"\"\n",
        "        i = tf.range(n_dest)[:, None]\n",
        "        j = tf.range(n_src)\n",
        "        m = i >= j - n_src + n_dest\n",
        "        return tf.cast(m, dtype)  # true->1, false->2로 변형\n",
        "\n",
        "    def attention(self, query, key, value):\n",
        "        # input\n",
        "        # q, k, v : (batch_size, num_heads, seq_len, projection_dim)\n",
        "        # output\n",
        "        # 1. output : (batch_size, seq_len, num_heads, projection_dim)\n",
        "        # 2. weights\n",
        "        # score : (batch_size, seq_len, seq_len) = (seq_len, embed_dim)x(seq_len, embed_dim)\n",
        "        score = tf.matmul(query, key, transpose_b=True)  # (batch_size, seq_len, seq_len)\n",
        "        dim_key = tf.cast(tf.shape(key)[-1], tf.float32)  # embed_dim\n",
        "        # scaled_score : (batch_size, seq_len, seq_len), sqrt(embed_dim)로 나눠서 normalize\n",
        "        scaled_score = score / tf.math.sqrt(dim_key)  # (batch_size, seq_len, seq_len)\n",
        "        \n",
        "        # prevent information flow from future tokens\n",
        "        shape = tf.shape(scaled_score)  # 4차원\n",
        "        dim_dest, dim_src = shape[2], shape[3]\n",
        "        # attention_mask\n",
        "        # array([[[[1., 0., 0., 0.],\n",
        "        #          [1., 1., 0., 0.],\n",
        "        #          [1., 1., 1., 0.],\n",
        "        #          [1., 1., 1., 1.]]]]\n",
        "        attention_mask = self.causal_attention_mask(dim_dest, dim_src, scaled_score.dtype)\n",
        "        attention_mask = tf.reshape(attention_mask, [1, 1, dim_dest, dim_src])  # why? 굳이?\n",
        "        # 하삼각 행렬은 값을 갖고, 상삼각행렬은 -10000로 attention이 가해지지 않도록\n",
        "        scaled_score = scaled_score * attention_mask - 1e4 * (1 - attention_mask)\n",
        "\n",
        "        weights = tf.nn.softmax(scaled_score, axis=-1)  # (batch_size, num_heads, seq_len, seq_len)\n",
        "        output = tf.matmul(weights, value)  # (batch_size, num_heads, seq_len, projection_dim)\n",
        "        return output, weights\n",
        "\n",
        "    def separate_heads(self, x, batch_size):\n",
        "        x = tf.reshape(x, (batch_size, -1, self.num_heads, self.projection_dim))\n",
        "        return tf.transpose(x, perm=[0, 2, 1, 3])\n",
        "\n",
        "    def call(self, inputs):\n",
        "        # x.shape = [batch_size, seq_len, embedding_dim]\n",
        "        batch_size = tf.shape(inputs)[0]\n",
        "        \n",
        "        # q, k, v 구하기\n",
        "        query = self.query_dense(inputs)  # (batch_size, seq_len, embed_dim)\n",
        "        key   = self.key_dense(inputs)    # (batch_size, seq_len, embed_dim)\n",
        "        value = self.value_dense(inputs)  # (batch_size, seq_len, embed_dim)\n",
        "        \n",
        "        # multihead로 쪼개기, (batch_size, seq_len, embed_dim) -> (batch_size, num_heads, seq_len, projection_dim)\n",
        "        query = self.separate_heads(query, batch_size)  # (batch_size, num_heads, seq_len, projection_dim)\n",
        "        key   = self.separate_heads(key, batch_size)    # (batch_size, num_heads, seq_len, projection_dim)\n",
        "        value = self.separate_heads(value, batch_size)  # (batch_size, num_heads, seq_len, projection_dim)\n",
        "        \n",
        "        # q,k,v의 attention 구하기\n",
        "        attention, weights = self.attention(query, key, value)  # attention : (batch_size, num_heads, seq_len, projection_dim), weight : (batch_size, num_heads, seq_len, seq_len)\n",
        "        attention = tf.transpose(attention, perm=[0, 2, 1, 3])  # (batch_size, seq_len, num_heads, projection_dim)\n",
        "        # multi-head attention을 하나로 합치기\n",
        "        concat_attention = tf.reshape(attention, (batch_size, -1, self.embed_dim))  # (batch_size, seq_len, embed_dim)\n",
        "        # 최종 dense layer\n",
        "        output = self.combine_heads(concat_attention)  # (batch_size, seq_len, embed_dim)\n",
        "        \n",
        "        # output : (batch_size, seq_len, embed_dim)\n",
        "        return output\n"
      ]
    },
    {
      "cell_type": "markdown",
      "metadata": {
        "id": "1mYmW5y2Da45"
      },
      "source": [
        "## Implement a Transformer block as a layer\n"
      ]
    },
    {
      "cell_type": "code",
      "execution_count": null,
      "metadata": {
        "code_folding": [
          0
        ],
        "id": "oFDAdNzjDa45"
      },
      "outputs": [],
      "source": [
        "class TransformerBlock(layers.Layer):\n",
        "    def __init__(self, embed_dim, num_heads, ff_dim, rate=0.1):\n",
        "        # embed_dim=512\n",
        "        # num_heads=8\n",
        "        # ff_dim=2048\n",
        "        super(TransformerBlock, self).__init__()\n",
        "        self.att = MultiHeadSelfAttention(embed_dim, num_heads)\n",
        "        self.ffn = keras.Sequential([\n",
        "            layers.Dense(ff_dim, activation=\"relu\"),  ### # (batch_size, seq_len, ff_dim)\n",
        "            layers.Dense(embed_dim)  ### # (batch_size, seq_len, embed_dim)\n",
        "        ])\n",
        "        self.layernorm1 = layers.LayerNormalization(epsilon=1e-6)\n",
        "        self.layernorm2 = layers.LayerNormalization(epsilon=1e-6)\n",
        "        self.dropout1 = layers.Dropout(rate)\n",
        "        self.dropout2 = layers.Dropout(rate)\n",
        "\n",
        "    def call(self, inputs):\n",
        "        attention_output = self.att(inputs)\n",
        "        attention_output = self.dropout1(attention_output)  ### # (batch_size, seq_len, embed_dim)\n",
        "        out1 = self.layernorm1(inputs + attention_output)  ### # (batch_size, seq_len, embed_dim)\n",
        "        ffn_output = self.ffn(out1)  ### # (batch_size, seq_len, embed_dim)\n",
        "        ffn_output = self.dropout2(ffn_output)\n",
        "        return self.layernorm2(out1 + ffn_output)  ### # (batch_size, seq_len, embed_dim)"
      ]
    },
    {
      "cell_type": "markdown",
      "metadata": {
        "id": "sb6o6-UzDa45"
      },
      "source": [
        "## Implement embedding layer\n",
        "\n",
        "Two seperate embedding layers, one for tokens, one for token index (positions).\n"
      ]
    },
    {
      "cell_type": "code",
      "execution_count": null,
      "metadata": {
        "code_folding": [
          0
        ],
        "id": "B8N7P-eIDa45"
      },
      "outputs": [],
      "source": [
        "class TokenAndPositionEmbedding(layers.Layer):\n",
        "    # input : (batch_size, seq_len)\n",
        "    # output: (batch_size, seq_len, embed_dim)\n",
        "    def __init__(self, maxlen, vocab_size, embed_dim):\n",
        "        super(TokenAndPositionEmbedding, self).__init__()\n",
        "        self.token_emb = layers.Embedding(input_dim=vocab_size, output_dim=embed_dim)\n",
        "        self.pos_emb = layers.Embedding(input_dim=maxlen, output_dim=embed_dim)\n",
        "\n",
        "    def call(self, x):\n",
        "        # x : (batch_size, seq_len)\n",
        "        maxlen = tf.shape(x)[-1]  # seq_len\n",
        "        positions = tf.range(start=0, limit=maxlen, delta=1)  # [0, 1, ...seq_len]\n",
        "        positions = self.pos_emb(positions)  # (seq_len, embed_dim)\n",
        "        x = self.token_emb(x)  # (batch_size, seq_len, embed_dim)\n",
        "        return x + positions"
      ]
    },
    {
      "cell_type": "code",
      "execution_count": null,
      "metadata": {
        "code_folding": [
          0
        ],
        "colab": {
          "base_uri": "https://localhost:8080/",
          "height": 302
        },
        "id": "AtQ1KrcVTYGx",
        "outputId": "0525a4d8-05b1-4808-8afc-3e8eab84128e"
      },
      "outputs": [
        {
          "name": "stdout",
          "output_type": "stream",
          "text": [
            "(1, 100, 256)\n"
          ]
        },
        {
          "data": {
            "image/png": "[encoded data removed]",
            "text/plain": [
              "<Figure size 432x288 with 2 Axes>"
            ]
          },
          "metadata": {
            "needs_background": "light"
          },
          "output_type": "display_data"
        }
      ],
      "source": [
        "# transformer와 본래 positional encoding 방식\n",
        "maxlen = 100\n",
        "embed_dim = 256\n",
        "\n",
        "def get_angles(pos, i, d_model):\n",
        "    angle_rates = 1 / np.power(10000, (2 * (i//2)) / np.float32(d_model))\n",
        "    return pos * angle_rates\n",
        "\n",
        "def positional_encoding(position, d_model):\n",
        "    angle_rads = get_angles(np.arange(position)[:, np.newaxis],\n",
        "                          np.arange(d_model)[np.newaxis, :],\n",
        "                          d_model)\n",
        "\n",
        "    # apply sin to even indices in the array; 2i\n",
        "    angle_rads[:, 0::2] = np.sin(angle_rads[:, 0::2])\n",
        "\n",
        "    # apply cos to odd indices in the array; 2i+1\n",
        "    angle_rads[:, 1::2] = np.cos(angle_rads[:, 1::2])\n",
        "\n",
        "    pos_encoding = angle_rads[np.newaxis, ...]\n",
        "\n",
        "    return tf.cast(pos_encoding, dtype=tf.float32)\n",
        "\n",
        "pos_encoding = positional_encoding(maxlen, embed_dim)\n",
        "print (pos_encoding.shape)\n",
        "\n",
        "import matplotlib.pyplot as plt\n",
        "plt.pcolormesh(pos_encoding[0], cmap='RdBu')\n",
        "plt.xlabel('embed_dim')\n",
        "plt.xlim((0, embed_dim))\n",
        "plt.ylabel('Position')\n",
        "plt.colorbar()\n",
        "plt.show()"
      ]
    },
    {
      "cell_type": "markdown",
      "metadata": {
        "id": "9dzZnHi0Da45"
      },
      "source": [
        "## Implement miniature GPT model\n"
      ]
    },
    {
      "cell_type": "code",
      "execution_count": null,
      "metadata": {
        "code_folding": [
          0
        ],
        "colab": {
          "base_uri": "https://localhost:8080/"
        },
        "id": "RvCehw28Da45",
        "outputId": "f6ba55d4-7ef2-42a4-c4f5-186a637e1cec"
      },
      "outputs": [
        {
          "name": "stdout",
          "output_type": "stream",
          "text": [
            "Model: \"model\"\n",
            "_________________________________________________________________\n",
            " Layer (type)                Output Shape              Param #   \n",
            "=================================================================\n",
            " input_1 (InputLayer)        [(None, 100)]             0         \n",
            "                                                                 \n",
            " token_and_position_embeddin  (None, 100, 256)         5145600   \n",
            " g (TokenAndPositionEmbeddin                                     \n",
            " g)                                                              \n",
            "                                                                 \n",
            " transformer_block_1 (Transf  (None, 100, 256)         395776    \n",
            " ormerBlock)                                                     \n",
            "                                                                 \n",
            " dense_12 (Dense)            (None, 100, 20000)        5140000   \n",
            "                                                                 \n",
            "=================================================================\n",
            "Total params: 10,681,376\n",
            "Trainable params: 10,681,376\n",
            "Non-trainable params: 0\n",
            "_________________________________________________________________\n"
          ]
        }
      ],
      "source": [
        "## create model\n",
        "vocab_size = 20000  # Only consider the top 20k words, 50,257\n",
        "maxlen = 100  # Max sequence size, 1024\n",
        "embed_dim = 256  # Embedding size for each token, 768\n",
        "num_heads = 2  # Number of attention heads, 12\n",
        "feed_forward_dim = 256  # Hidden layer size in feed forward network inside transformer, 1024 or 2048\n",
        "num_layers = 1\n",
        "\n",
        "# gpt3\n",
        "# vocab_size = 50257  # Only consider the top 20k words, 50,257\n",
        "# maxlen = 2048  # Max sequence size, 1024\n",
        "# embed_dim = 12288  # Embedding size for each token, 768\n",
        "# num_heads = 96  # Number of attention heads, 12\n",
        "# feed_forward_dim = 12288  # Hidden layer size in feed forward network inside transformer, 1024 or 2048\n",
        "# num_layers = 96\n",
        "\n",
        "def create_model():\n",
        "    inputs = layers.Input(shape=(maxlen,), dtype=tf.int32)\n",
        "    embedding_layer = TokenAndPositionEmbedding(maxlen, vocab_size, embed_dim) # (batch_size, input_seq_len) -> (batch_size, input_seq_len, embed_dim)\n",
        "    x = embedding_layer(inputs)\n",
        "    transformer_block = TransformerBlock(embed_dim, num_heads, feed_forward_dim)  # (batch_size, input_seq_len, d_model) => (batch_size, input_seq_len, d_model)\n",
        "    transformer_block_list = [TransformerBlock(embed_dim, num_heads, feed_forward_dim) for _ in range(num_layers)]  # 추가,for multi-layers\n",
        "\n",
        "#     x = transformer_block(x)\n",
        "    ## 추가, multi-layers\n",
        "    for i in range(num_layers):\n",
        "        x = transformer_block_list[i](x)\n",
        "    \n",
        "    outputs = layers.Dense(vocab_size)(x)\n",
        "    model = keras.Model(inputs=inputs, outputs=[outputs, x])\n",
        "    # 훈련 데이터의 label(target)이 one-hot vector 이면 CategoricalCrossentropy\n",
        "    # 훈련 데이터의 label(target)이 정수이면 SparseCategoricalCrossentropy\n",
        "    loss_fn = tf.keras.losses.SparseCategoricalCrossentropy(from_logits=True)\n",
        "    model.compile(\n",
        "        \"adam\", loss=[loss_fn, None],\n",
        "    )  # No loss and optimization based on word embeddings from transformer block\n",
        "    return model\n",
        "\n",
        "model = create_model()\n",
        "model.summary()"
      ]
    },
    {
      "cell_type": "markdown",
      "metadata": {
        "id": "kJCoQrWyDa45"
      },
      "source": [
        "## Prepare data for word level language modelling\n",
        "\n",
        "We will download IMDB data, and combine training and validation sets for\n",
        "text generation task.\n"
      ]
    },
    {
      "cell_type": "code",
      "execution_count": null,
      "metadata": {
        "colab": {
          "base_uri": "https://localhost:8080/"
        },
        "id": "RzrkNEdpTk0v",
        "outputId": "8ef12319-e21f-4780-994c-7c08c908d1e6"
      },
      "outputs": [
        {
          "name": "stdout",
          "output_type": "stream",
          "text": [
            "  % Total    % Received % Xferd  Average Speed   Time    Time     Time  Current\n",
            "                                 Dload  Upload   Total   Spent    Left  Speed\n",
            "100 80.2M  100 80.2M    0     0  9148k      0  0:00:08  0:00:08 --:--:-- 16.4M\n"
          ]
        }
      ],
      "source": [
        "!curl -O https://ai.stanford.edu/~amaas/data/sentiment/aclImdb_v1.tar.gz\n",
        "!tar -xf aclImdb_v1.tar.gz"
      ]
    },
    {
      "cell_type": "code",
      "execution_count": null,
      "metadata": {
        "code_folding": [
          0
        ],
        "colab": {
          "base_uri": "https://localhost:8080/"
        },
        "id": "M58HWG9mDa45",
        "outputId": "e8d5ae13-279c-4ae2-dcd1-e0599aae0992"
      },
      "outputs": [
        {
          "name": "stdout",
          "output_type": "stream",
          "text": [
            "50000 files\n"
          ]
        }
      ],
      "source": [
        "## make dataset\n",
        "batch_size = 100\n",
        "\n",
        "# The dataset contains each review in a separate text file\n",
        "# The text files are present in four different folders\n",
        "# Create a list all files\n",
        "filenames = []\n",
        "directories = [\n",
        "    \"aclImdb/train/pos\",\n",
        "    \"aclImdb/train/neg\",\n",
        "    \"aclImdb/test/pos\",\n",
        "    \"aclImdb/test/neg\",\n",
        "]\n",
        "for dir in directories:\n",
        "    for f in os.listdir(dir):\n",
        "        filenames.append(os.path.join(dir, f))\n",
        "\n",
        "print(f\"{len(filenames)} files\")\n",
        "\n",
        "# Create dataset from text files\n",
        "random.shuffle(filenames)\n",
        "text_ds = tf.data.TextLineDataset(filenames)\n",
        "text_ds = text_ds.shuffle(buffer_size=256)\n",
        "text_ds = text_ds.batch(batch_size)\n",
        "\n",
        "\n",
        "def custom_standardization(input_string):\n",
        "    \"\"\" Remove html line-break tags and handle punctuation \"\"\"\n",
        "    lowercased = tf.strings.lower(input_string)\n",
        "    stripped_html = tf.strings.regex_replace(lowercased, \"<br />\", \" \")\n",
        "    return tf.strings.regex_replace(stripped_html, f\"([{string.punctuation}])\", r\" \\1\")\n",
        "\n",
        "\n",
        "# Create vectcorization layer and adapt it to the text\n",
        "vectorize_layer = TextVectorization(\n",
        "    standardize=custom_standardization,\n",
        "    max_tokens=vocab_size - 1,\n",
        "    output_mode=\"int\",\n",
        "    output_sequence_length=maxlen + 1,\n",
        ")\n",
        "vectorize_layer.adapt(text_ds)\n",
        "vocab = vectorize_layer.get_vocabulary()  # To get words back from token indices\n",
        "\n",
        "\n",
        "def prepare_lm_inputs_labels(text):\n",
        "    \"\"\"\n",
        "    Shift word sequences by 1 position so that the target for position (i) is\n",
        "    word at position (i+1). The model will use all words up till position (i)\n",
        "    to predict the next word.\n",
        "    \"\"\"\n",
        "    text = tf.expand_dims(text, -1)\n",
        "    tokenized_sentences = vectorize_layer(text)\n",
        "    x = tokenized_sentences[:, :-1]\n",
        "    y = tokenized_sentences[:, 1:]\n",
        "    return x, y\n",
        "\n",
        "\n",
        "text_ds = text_ds.map(prepare_lm_inputs_labels)\n",
        "text_ds = text_ds.prefetch(tf.data.experimental.AUTOTUNE)\n",
        "\n"
      ]
    },
    {
      "cell_type": "markdown",
      "metadata": {
        "id": "lKwrAAebDa45"
      },
      "source": [
        "## Callback for generating text\n"
      ]
    },
    {
      "cell_type": "code",
      "execution_count": null,
      "metadata": {
        "code_folding": [
          0,
          35
        ],
        "colab": {
          "base_uri": "https://localhost:8080/"
        },
        "id": "AnRBGD35Da45",
        "outputId": "fdab6d9d-1ba1-4b47-c620-198e748b091f"
      },
      "outputs": [
        {
          "name": "stdout",
          "output_type": "stream",
          "text": [
            "this movie is -> [13, 18, 9]\n"
          ]
        }
      ],
      "source": [
        "##\n",
        "class TextGenerator(keras.callbacks.Callback):\n",
        "    \"\"\"Callback to generate text from trained model.\n",
        "    1. Feed some starting prompt to the model\n",
        "    2. Predict probabilities for next token\n",
        "    3. Sample next token and add it to the next input\n",
        "\n",
        "    # Arguments\n",
        "        max_tokens: Integer, the number of tokens to be generated after prompt.\n",
        "        start_tokens: List of integers, the token indices for the starting prompt.\n",
        "        index_to_word: List of strings, obtained from TextVectorization layer.\n",
        "        top_k: Integer, sample from the `top_k` token predictions.\n",
        "        print_every: Integer, print after this many epochs.\n",
        "    \"\"\"\n",
        "\n",
        "    def __init__(\n",
        "        self, max_tokens, start_tokens, index_to_word, top_k=10, print_every=1\n",
        "    ):\n",
        "        self.max_tokens = max_tokens\n",
        "        self.start_tokens = start_tokens\n",
        "        self.index_to_word = index_to_word\n",
        "        self.print_every = print_every\n",
        "        self.k = top_k\n",
        "\n",
        "    def sample_from(self, logits):\n",
        "        logits, indices = tf.math.top_k(logits, k=self.k, sorted=True)\n",
        "        indices = np.asarray(indices).astype(\"int32\")\n",
        "        preds = keras.activations.softmax(tf.expand_dims(logits, 0))[0]\n",
        "        preds = np.asarray(preds).astype(\"float32\")\n",
        "        return np.random.choice(indices, p=preds)\n",
        "\n",
        "    def detokenize(self, number):\n",
        "        return self.index_to_word[number]\n",
        "\n",
        "    def on_epoch_end(self, epoch, logs=None):\n",
        "        class inference():\n",
        "            # Arguments\n",
        "            '''\n",
        "            max_tokens: Integer, the number of tokens to be generated after prompt.\n",
        "            start_tokens: List of integers, the token indices for the starting prompt.\n",
        "            index_to_word: List of strings, obtained from TextVectorization layer.\n",
        "            top_k: Integer, sample from the `top_k` token predictions.\n",
        "            print_every: Integer, print after this many epochs.\n",
        "            '''\n",
        "\n",
        "            def __init__(self, model, max_tokens=40, index_to_word=vocab, word_to_index=word_to_index, top_k=10):\n",
        "                self.max_tokens = max_tokens\n",
        "                self.index_to_word = index_to_word\n",
        "                self.word_to_index = word_to_index\n",
        "                self.k = top_k\n",
        "                self.model = model\n",
        "\n",
        "            def sample_from(self, logits):\n",
        "                logits, indices = tf.math.top_k(logits, k=self.k, sorted=True)  # indices : 상위 k개의 idx - [601,  16,   1, 175]\n",
        "                indices = np.asarray(indices).astype(\"int32\")  # to int\n",
        "                preds = keras.activations.softmax(tf.expand_dims(logits, 0))[0]  # k개를 softmax해서 합이 1이 되도록\n",
        "                preds = np.asarray(preds).astype(\"float32\")  # [0.40734288, 0.23856187, 0.19533157, 0.15876363]\n",
        "                # indices : [601,  16,   1, 175]\n",
        "                # preds  : [0.40734288, 0.23856187, 0.19533157, 0.15876363]\n",
        "                # preds 확률로 indices 랜덤선택\n",
        "                return np.random.choice(indices, p=preds)\n",
        "\n",
        "            def detokenize(self, number):\n",
        "                return self.index_to_word[number]        \n",
        "\n",
        "            def generate_sentence(self, start_prompt='i have a dream'):\n",
        "                self.start_prompt = start_prompt\n",
        "                self.start_tokens = [self.word_to_index.get(_, 1) for _ in self.start_prompt.split()]\n",
        "                self.initial_tokens = self.start_tokens\n",
        "#                 print(start_prompt,'->', self.start_tokens)\n",
        "                self.start_tokens = [_ for _ in self.start_tokens]  # [13, 18, 9]\n",
        "                num_tokens_generated = 0\n",
        "\n",
        "\n",
        "                num_tokens_generated = 0\n",
        "                tokens_generated = []\n",
        "                while num_tokens_generated <= self.max_tokens:\n",
        "                    # start_tokens 갯수에 맞게 padding\n",
        "                    # [13, 18, 9] -> [13, 18, 9, 0, 0, 0, ...]\n",
        "                    pad_len = maxlen - len(self.start_tokens)  # 최대 생성길이 100 에서 입력 token갯수를 뺀게 padding 길이\n",
        "                    sample_index = len(self.start_tokens) - 1\n",
        "                    if pad_len < 0:\n",
        "                        x = self.start_tokens[:maxlen]\n",
        "                        sample_index = maxlen - 1\n",
        "                    elif pad_len > 0:\n",
        "                        x = self.start_tokens + [0] * pad_len\n",
        "                    else:\n",
        "                        x = self.start_tokens\n",
        "\n",
        "                    # 입력 x, 출력 y\n",
        "                    x = np.array([x])  # [13, 18, 9, 0, 0, 0, ...] -> [[13, 18, 9, 0, 0, 0, ...]]\n",
        "                    y, _ = self.model.predict(x)  # y.shape : (1, seq_len, vocab)\n",
        "\n",
        "                    sample_token = self.sample_from(y[0][sample_index])  # 입력 : 0번째 batch의 2번째 sample idx값 1000개(vocab)\n",
        "                    tokens_generated.append(sample_token)\n",
        "                    self.start_tokens.append(sample_token)\n",
        "                    num_tokens_generated = len(tokens_generated)\n",
        "\n",
        "#                     print('%s -> %s'%([self.detokenize(_) for _ in self.start_tokens[:-1]], self.detokenize(tokens_generated[-1])))\n",
        "                txt = \" \".join([self.detokenize(_) for _ in self.initial_tokens + tokens_generated])\n",
        "                print('\\ngenerated text:\\n%s\\n'%(txt))\n",
        "\n",
        "\n",
        "\n",
        "\n",
        "        start_tokens = [_ for _ in self.start_tokens]\n",
        "        if (epoch + 1) % self.print_every != 0:\n",
        "            return\n",
        "        num_tokens_generated = 0\n",
        "        tokens_generated = []\n",
        "        while num_tokens_generated <= self.max_tokens:\n",
        "            pad_len = maxlen - len(start_tokens)\n",
        "            sample_index = len(start_tokens) - 1\n",
        "            if pad_len < 0:\n",
        "                x = start_tokens[:maxlen]\n",
        "                sample_index = maxlen - 1\n",
        "            elif pad_len > 0:\n",
        "                x = start_tokens + [0] * pad_len\n",
        "            else:\n",
        "                x = start_tokens\n",
        "            x = np.array([x])\n",
        "            y, _ = self.model.predict(x)\n",
        "            sample_token = self.sample_from(y[0][sample_index])\n",
        "            tokens_generated.append(sample_token)\n",
        "            start_tokens.append(sample_token)\n",
        "            num_tokens_generated = len(tokens_generated)\n",
        "        txt = \" \".join(\n",
        "            [self.detokenize(_) for _ in self.start_tokens + tokens_generated]\n",
        "        )\n",
        "        print('\\ngenerated text:\\n%s\\n'%(txt))\n",
        "\n",
        "        start_prompt = 'i have a'\n",
        "        model_inference = inference(model, max_tokens=40, index_to_word=vocab, word_to_index=word_to_index, top_k=4)\n",
        "        model_inference.generate_sentence(start_prompt)\n",
        "        \n",
        "\n",
        "# Tokenize starting prompt\n",
        "word_to_index = {}\n",
        "for index, word in enumerate(vocab):\n",
        "    word_to_index[word] = index\n",
        "\n",
        "start_prompt = \"this movie is\"\n",
        "start_tokens = [word_to_index.get(_, 1) for _ in start_prompt.split()]\n",
        "print(start_prompt,'->', start_tokens)\n",
        "num_tokens_generated = 40\n",
        "text_gen_callback = TextGenerator(num_tokens_generated, start_tokens, vocab)\n",
        "\n"
      ]
    },
    {
      "cell_type": "markdown",
      "metadata": {
        "id": "LMvz7qysDa46"
      },
      "source": [
        "## Train\n",
        "\n",
        "50분 소요\n"
      ]
    },
    {
      "cell_type": "code",
      "execution_count": null,
      "metadata": {
        "colab": {
          "base_uri": "https://localhost:8080/"
        },
        "id": "OR7hKPKMDa46",
        "outputId": "0b796e0e-6eb1-4dda-9bc8-5f0ed4689e99"
      },
      "outputs": [
        {
          "name": "stdout",
          "output_type": "stream",
          "text": [
            "Epoch 1/30\n",
            "\n",
            "generated text:\n",
            "this movie is a good movie to watch . if you are a good , but this movie is a very interesting and the movie to be [UNK] . i was in my opinion and i was pleasantly surprised . it has no idea\n",
            "\n",
            "\n",
            "generated text:\n",
            "i have a huge fan of this film , and the acting was very well . the plot was a good movie and it 's just a great movie . it 's very good . the acting is very well , the story of\n",
            "\n",
            "500/500 - 83s - loss: 5.3539 - dense_12_loss: 5.3539 - 83s/epoch - 166ms/step\n",
            "Epoch 2/30\n",
            "\n",
            "generated text:\n",
            "this movie is great . the best movie ever made . it has some of them all in a [UNK] [UNK] , [UNK] . the only thing to make -up , and the rest of this film is the worst movie i have ever\n",
            "\n",
            "\n",
            "generated text:\n",
            "i have a lot of reviews , but this movie is not a great movie that has a good cast of actors and a cast of unknowns with a great cast of unknowns . this is a very well written film , with some\n",
            "\n",
            "500/500 - 83s - loss: 4.6073 - dense_12_loss: 4.6073 - 83s/epoch - 166ms/step\n",
            "Epoch 3/30\n",
            "\n",
            "generated text:\n",
            "this movie is absolutely terrible . i was a huge disappointment because the actors were very good . it also , there is a great deal of [UNK] . . . . . [UNK] [UNK] , a [UNK] and [UNK] ' [UNK] [UNK] [UNK]\n",
            "\n",
            "\n",
            "generated text:\n",
            "i have a lot of movies with the exception of the movie , but it 's still a bit of [UNK] . i think it was great . it was great , and the acting is very bad . i was very impressed with\n",
            "\n",
            "500/500 - 83s - loss: 4.3868 - dense_12_loss: 4.3868 - 83s/epoch - 166ms/step\n",
            "Epoch 4/30\n",
            "\n",
            "generated text:\n",
            "this movie is a complete waste . it 's the worst film i 've ever seen . this movie was a waste of your time . if you want a [UNK] fan , you 're a fan of a bit disappointed . it is\n",
            "\n",
            "\n",
            "generated text:\n",
            "i have a chance to watch this film . it was a waste of time , i was expecting a movie to be one of the best . it was a bit slow and the ending is not the case . i 'm sure\n",
            "\n",
            "500/500 - 83s - loss: 4.2476 - dense_12_loss: 4.2476 - 83s/epoch - 167ms/step\n",
            "Epoch 5/30\n",
            "\n",
            "generated text:\n",
            "this movie is one of the worst horror movies i 've ever seen to [UNK] . it is the worst movie i have ever seen . i 'm a sucker for a bad b -movie [UNK] [UNK] [UNK] . it 's hard to believe\n",
            "\n",
            "\n",
            "generated text:\n",
            "i have a seen of the movie , and i have seen this film . it was very good , and i have seen some of the best movies i have ever seen . i was very surprised to find it to see the\n",
            "\n",
            "500/500 - 83s - loss: 4.1423 - dense_12_loss: 4.1423 - 83s/epoch - 167ms/step\n",
            "Epoch 6/30\n",
            "\n",
            "generated text:\n",
            "this movie is one of the better movies , this movie had to get better and worse . the script is so bad , and the movie is very poorly acted and it has all it . the acting is very poor , but\n",
            "\n",
            "\n",
            "generated text:\n",
            "i have a seen of a few movies that i 've seen in my life . this is one of the best movies ever , but it is a very entertaining film that i have seen in many movies . the first time i\n",
            "\n",
            "500/500 - 84s - loss: 4.0560 - dense_12_loss: 4.0560 - 84s/epoch - 167ms/step\n",
            "Epoch 7/30\n",
            "\n",
            "generated text:\n",
            "this movie is not the funniest movie i had ever seen . the cast is very well cast and i was a little skeptical since then . the movie itself has some of the actors in the world . i don 't know what\n",
            "\n",
            "\n",
            "generated text:\n",
            "i have a respect for anyone who watches this movie , and it is so sad that i can 't remember what it is . it 's a pity that is what it is about . it 's about a man , but it\n",
            "\n",
            "500/500 - 84s - loss: 3.9829 - dense_12_loss: 3.9829 - 84s/epoch - 167ms/step\n",
            "Epoch 8/30\n",
            "\n",
            "generated text:\n",
            "this movie is just plain stupid for me . the worst movie i have ever seen , and i think that this movie did not get to the worst part . i have ever seen . i think i 'm glad that i didn\n",
            "\n",
            "\n",
            "generated text:\n",
            "i have a long time watching it . it has some of the worst movies i have ever seen , but this is the only one . . i was wrong . . the movie is not one of the worst movies i have\n",
            "\n",
            "500/500 - 84s - loss: 3.9200 - dense_12_loss: 3.9200 - 84s/epoch - 167ms/step\n",
            "Epoch 9/30\n",
            "\n",
            "generated text:\n",
            "this movie is about one of the best movies i have ever seen . the story is about a man who has a good conscience in the film . the plot revolves around a man who is dying and a [UNK] in a [UNK]\n",
            "\n",
            "\n",
            "generated text:\n",
            "i have a long time watching a movie for a long time . i have seen this year , and it is a bit of a little slow , and i was surprised that it was not the only time i could not even\n",
            "\n",
            "500/500 - 83s - loss: 3.8650 - dense_12_loss: 3.8650 - 83s/epoch - 167ms/step\n",
            "Epoch 10/30\n",
            "\n",
            "generated text:\n",
            "this movie is a bad movie that makes you wonder what is . i mean , how can it be ? ! . i can 't think of . . . . . it 's the only redeeming quality of the plot was bad\n",
            "\n",
            "\n",
            "generated text:\n",
            "i have a lot of movies , but this one is a very good movie . i don 't know what it is , but it is not a comedy . . it 's not funny , but it is so funny . it\n",
            "\n",
            "500/500 - 83s - loss: 3.8161 - dense_12_loss: 3.8161 - 83s/epoch - 167ms/step\n",
            "Epoch 11/30\n",
            "\n",
            "generated text:\n",
            "this movie is so stupid . it was just so bad that it was funny , it was so stupid , that they couldn 't even save it . i 'm sorry that i did not understand what i wanted . i think it\n",
            "\n",
            "\n",
            "generated text:\n",
            "i have a problem in this film , i found that i have to agree with other comments , that i found the plot was very weak . the acting was sub -par and it had no plot holes . it was just bad\n",
            "\n",
            "500/500 - 84s - loss: 3.7719 - dense_12_loss: 3.7719 - 84s/epoch - 167ms/step\n",
            "Epoch 12/30\n",
            "\n",
            "generated text:\n",
            "this movie is not a typical b movie and it 's not a bad movie . i 'm not sure if there is a lot of people who want to make it look more like a movie than you are . the plot ,\n",
            "\n",
            "\n",
            "generated text:\n",
            "i have a long time ago , and i found the dvd version on vhs of this movie . i had a lot of memories . i found this movie to be very entertaining , and it is a great film . it is\n",
            "\n",
            "500/500 - 84s - loss: 3.7326 - dense_12_loss: 3.7326 - 84s/epoch - 167ms/step\n",
            "Epoch 13/30\n",
            "\n",
            "generated text:\n",
            "this movie is so good , it 's a pity that it is the same movie . it 's not just so bad . the script was atrocious , there 's nothing to say about this movie , but the acting was terrible .\n",
            "\n",
            "\n",
            "generated text:\n",
            "i have a very fond memories , but i found the movie to be very enjoyable . i found it to be quite a bit slow , but it wasn 't even funny at times , but the story is so boring and not\n",
            "\n",
            "500/500 - 83s - loss: 3.6969 - dense_12_loss: 3.6969 - 83s/epoch - 167ms/step\n",
            "Epoch 14/30\n",
            "\n",
            "generated text:\n",
            "this movie is absolutely hilarious . the acting is horrible . i cannot say that i have a problem with this movie , especially the way the ending credits is the worst of the first time you watch , and this movie will be\n",
            "\n",
            "\n",
            "generated text:\n",
            "i have a lot to say this was a bad movie , i 'm not sure what it was . i 'm sure it was a bit harsh and i thought it was good . the plot was great , but it was a\n",
            "\n",
            "500/500 - 83s - loss: 3.6642 - dense_12_loss: 3.6642 - 83s/epoch - 167ms/step\n",
            "Epoch 15/30\n",
            "\n",
            "generated text:\n",
            "this movie is about [UNK] , the main plot , the acting , the script , character , and the direction . the special effects are bad . the actors are pretty good , but the characters are well cast and the actors ,\n",
            "\n",
            "\n",
            "generated text:\n",
            "i have a lot of patience with the [UNK] of the [UNK] \" in the end of the movie . i was very impressed and i didn 't care for the characters , i thought the story was very well done , but the\n",
            "\n",
            "500/500 - 84s - loss: 3.6346 - dense_12_loss: 3.6346 - 84s/epoch - 167ms/step\n",
            "Epoch 16/30\n",
            "\n",
            "generated text:\n",
            "this movie is the best part of the movie is about a family and the plot . it is the first film that we have all seen it before . we know this movie is about a group of girls that have to get\n",
            "\n",
            "\n",
            "generated text:\n",
            "i have a problem with this film that was not the worst movie i have ever seen ! i have seen a lot of people , but i think this is a great film . the plot is very weak . i 'm not\n",
            "\n",
            "500/500 - 83s - loss: 3.6066 - dense_12_loss: 3.6066 - 83s/epoch - 167ms/step\n",
            "Epoch 17/30\n",
            "\n",
            "generated text:\n",
            "this movie is a good film . the actors are not very funny . the story is great . the story is about love , a [UNK] woman that has a little boy to marry . it 's obvious that i can see why\n",
            "\n",
            "\n",
            "generated text:\n",
            "i have a lot of movies to watch , i have to say that the [UNK] ' is a great movie . i think it has a great cast and a great cast . i was surprised to see it , but i was\n",
            "\n",
            "500/500 - 84s - loss: 3.5816 - dense_12_loss: 3.5816 - 84s/epoch - 167ms/step\n",
            "Epoch 18/30\n",
            "\n",
            "generated text:\n",
            "this movie is a great movie . it stars peter strauss as jake gyllenhaal , and john thaw are the best of all times . i have seen most of his movies , so it is amazing and really great . his performance was\n",
            "\n",
            "\n",
            "generated text:\n",
            "i have a lot of people who have not read a lot of reviews and this film is a bit harsh in my life . i have never seen such a great film , and it was a great movie ! it 's a\n",
            "\n",
            "500/500 - 83s - loss: 3.5581 - dense_12_loss: 3.5581 - 83s/epoch - 167ms/step\n",
            "Epoch 19/30\n",
            "\n",
            "generated text:\n",
            "this movie is a great story and i really enjoyed the movie i 've seen it twice now and i 'm sure he 's going to love it that it 's all the actors , but i 've seen . it 's not a\n",
            "\n",
            "\n",
            "generated text:\n",
            "i have a problem with this film , but i was pleasantly surprised . it was a very good movie . the acting was great and the plot was good . the movie is good . the story is very simple . i was\n",
            "\n",
            "500/500 - 83s - loss: 3.5364 - dense_12_loss: 3.5364 - 83s/epoch - 167ms/step\n",
            "Epoch 20/30\n",
            "\n",
            "generated text:\n",
            "this movie is a great movie . it is very funny in parts , not funny , and it is just so funny . it has nothing to recommend . this movie is a real shame that you have to see that , but\n",
            "\n",
            "\n",
            "generated text:\n",
            "i have a lot of movies to watch , and i 'm glad that i didn 't see it for the first time . i have seen it , and i think it 's a bit of suspense . i have been a lot\n",
            "\n",
            "500/500 - 84s - loss: 3.5158 - dense_12_loss: 3.5158 - 84s/epoch - 167ms/step\n",
            "Epoch 21/30\n",
            "\n",
            "generated text:\n",
            "this movie is awesome ! ! ! ! ! ! ! ! ! ! ! ! ! ! ! ! ! ! ! ! ! ! ! ! ! ! ! ! ! ! ! ! ! ! ! ! ! ! ! !\n",
            "\n",
            "\n",
            "generated text:\n",
            "i have a few of my friends who rented this movie for a movie , but i thought it was good . the plot was a little hazy , inconsistent and choppy at the end . i was amazed at the end of this\n",
            "\n",
            "500/500 - 84s - loss: 3.4973 - dense_12_loss: 3.4973 - 84s/epoch - 168ms/step\n",
            "Epoch 22/30\n",
            "\n",
            "generated text:\n",
            "this movie is absolutely horrible , it is a comedy that keeps you wondering throughout . you are watching this movie , but the acting is just plain stupid , and is so bad i 'm a huge fan of [UNK] . the only\n",
            "\n",
            "\n",
            "generated text:\n",
            "i have a lot of people , and it 's a great movie . it is so bad , it 's a movie , but it 's a shame that i have a lot of movies . . i think it 's the kind\n",
            "\n",
            "500/500 - 84s - loss: 3.4789 - dense_12_loss: 3.4789 - 84s/epoch - 167ms/step\n",
            "Epoch 23/30\n",
            "\n",
            "generated text:\n",
            "this movie is absolutely terrible . the plot is just boring , stupid . i thought it would be interesting , but it is a little slow . it 's a shame that it was not funny , and a very enjoyable movie .\n",
            "\n",
            "\n",
            "generated text:\n",
            "i have a lot of [UNK] , but this movie has nothing to recommend to everyone . i can 't understand what is . it 's about the same person who likes to watch this movie , i can see more than the first\n",
            "\n",
            "500/500 - 84s - loss: 3.4624 - dense_12_loss: 3.4624 - 84s/epoch - 167ms/step\n",
            "Epoch 24/30\n",
            "\n",
            "generated text:\n",
            "this movie is just bad . it has some of the worst parts i 've ever seen . i 've seen the movie on dvd . i can 't say it is a lot , it is not a [UNK] of [UNK] . it\n",
            "\n",
            "\n",
            "generated text:\n",
            "i have a lot of people , i was a little skeptical at first and thought that it would be a movie that is very good and the movie has a lot of gore and some of them , but it has some scenes\n",
            "\n",
            "500/500 - 84s - loss: 3.4467 - dense_12_loss: 3.4467 - 84s/epoch - 167ms/step\n",
            "Epoch 25/30\n",
            "\n",
            "generated text:\n",
            "this movie is a great movie ! i was so excited ! i saw this movie , and thought it was great . however , this movie didn 't make me angry . i thought i was very impressed with how great the acting\n",
            "\n",
            "\n",
            "generated text:\n",
            "i have a problem of the movie is that it is a comedy . it 's a comedy . it is a classic example of how a movie is that of [UNK] , and it 's not . the acting is good , the\n",
            "\n",
            "500/500 - 83s - loss: 3.4318 - dense_12_loss: 3.4318 - 83s/epoch - 167ms/step\n",
            "Epoch 26/30\n",
            "\n",
            "generated text:\n",
            "this movie is a complete waste of a time . i saw it on a rainy day . the plot was so weak in every aspect of this film was just too bright . but it did not make the same sense . the\n",
            "\n",
            "\n",
            "generated text:\n",
            "i have a very few good movies with the exception of the main plot is very good and a good movie . i have to say that this is not one of the best i ever seen . i 'm a huge fan of\n",
            "\n",
            "500/500 - 83s - loss: 3.4174 - dense_12_loss: 3.4174 - 83s/epoch - 167ms/step\n",
            "Epoch 27/30\n",
            "\n",
            "generated text:\n",
            "this movie is the same as the book and the screenplay is not as bad as the book , this movie bears little resemblance to burroughs ' . its story . it 's a little more than just about the movie and has a\n",
            "\n",
            "\n",
            "generated text:\n",
            "i have a lot of movies that have always been a fan of gram parsons for his long time . delicious , as a demented doctor and finally found out that a man is to be a fraud and the [UNK] . the story\n",
            "\n",
            "500/500 - 83s - loss: 3.4039 - dense_12_loss: 3.4039 - 83s/epoch - 167ms/step\n",
            "Epoch 28/30\n",
            "\n",
            "generated text:\n",
            "this movie is one of us movies of all time [UNK] movies . it is so full of clichés that they should really be . i was very pleasantly surprised that tigerland . the plot was not very realistic . it has some similarities\n",
            "\n",
            "\n",
            "generated text:\n",
            "i have a lot of respect for the film -making i think i have seen . i have seen the film many of them , but i don 't think it is a great movie for a good laugh . it was great to\n",
            "\n",
            "500/500 - 83s - loss: 3.3912 - dense_12_loss: 3.3912 - 83s/epoch - 167ms/step\n",
            "Epoch 29/30\n",
            "\n",
            "generated text:\n",
            "this movie is about an ex -cop taking revenge on the [UNK] and [UNK] [UNK] . \" the movie is a great deal of subtext - but the subject matter , it 's hard to find anything that doesn 't have to be anything\n",
            "\n",
            "\n",
            "generated text:\n",
            "i have a lot of movies that i 've seen in years , and have never seen any movie . i 've seen the only ones in the theater and it 's still the worst movie i have ever seen . it is not\n",
            "\n",
            "500/500 - 83s - loss: 3.3785 - dense_12_loss: 3.3785 - 83s/epoch - 167ms/step\n",
            "Epoch 30/30\n",
            "\n",
            "generated text:\n",
            "this movie is a great film . it is a film of great entertainment , not only the fact that it is very rare when the first thing you think it is [UNK] . the characters are so [UNK] of a great deal .\n",
            "\n",
            "\n",
            "generated text:\n",
            "i have a great respect for this movie . this is one of the best of the best films i have ever seen . the plot is so bad , it 's not a movie . i have seen it several times , but\n",
            "\n",
            "500/500 - 83s - loss: 3.3670 - dense_12_loss: 3.3670 - 83s/epoch - 167ms/step\n"
          ]
        }
      ],
      "source": [
        "model.fit(text_ds, verbose=2, epochs=30, callbacks=[text_gen_callback])\n",
        "model.save_weights(\"GPT_weight.h5\")"
      ]
    },
    {
      "cell_type": "code",
      "execution_count": null,
      "metadata": {
        "id": "KWkZmQWOSX1g"
      },
      "outputs": [],
      "source": [
        "model.load_weights(\"GPT_weight.h5\")"
      ]
    },
    {
      "cell_type": "code",
      "execution_count": null,
      "metadata": {
        "id": "MwMqyHMyTYG8"
      },
      "outputs": [],
      "source": []
    },
    {
      "cell_type": "code",
      "execution_count": null,
      "metadata": {
        "code_folding": [
          0
        ],
        "colab": {
          "base_uri": "https://localhost:8080/"
        },
        "id": "lT8AXUptTYG8",
        "outputId": "861546dd-a6ce-4208-c158-64c5f75eeb47"
      },
      "outputs": [
        {
          "name": "stdout",
          "output_type": "stream",
          "text": [
            "i have a -> [12, 32, 5]\n",
            "['i', 'have', 'a'] -> lot\n",
            "['i', 'have', 'a', 'lot'] -> of\n",
            "['i', 'have', 'a', 'lot', 'of'] -> people\n",
            "['i', 'have', 'a', 'lot', 'of', 'people'] -> ,\n",
            "['i', 'have', 'a', 'lot', 'of', 'people', ','] -> this\n",
            "['i', 'have', 'a', 'lot', 'of', 'people', ',', 'this'] -> movie\n",
            "['i', 'have', 'a', 'lot', 'of', 'people', ',', 'this', 'movie'] -> has\n",
            "['i', 'have', 'a', 'lot', 'of', 'people', ',', 'this', 'movie', 'has'] -> a\n",
            "['i', 'have', 'a', 'lot', 'of', 'people', ',', 'this', 'movie', 'has', 'a'] -> lot\n",
            "['i', 'have', 'a', 'lot', 'of', 'people', ',', 'this', 'movie', 'has', 'a', 'lot'] -> of\n",
            "['i', 'have', 'a', 'lot', 'of', 'people', ',', 'this', 'movie', 'has', 'a', 'lot', 'of'] -> reviews\n",
            "['i', 'have', 'a', 'lot', 'of', 'people', ',', 'this', 'movie', 'has', 'a', 'lot', 'of', 'reviews'] -> for\n",
            "['i', 'have', 'a', 'lot', 'of', 'people', ',', 'this', 'movie', 'has', 'a', 'lot', 'of', 'reviews', 'for'] -> this\n",
            "['i', 'have', 'a', 'lot', 'of', 'people', ',', 'this', 'movie', 'has', 'a', 'lot', 'of', 'reviews', 'for', 'this'] -> movie\n",
            "['i', 'have', 'a', 'lot', 'of', 'people', ',', 'this', 'movie', 'has', 'a', 'lot', 'of', 'reviews', 'for', 'this', 'movie'] -> is\n",
            "['i', 'have', 'a', 'lot', 'of', 'people', ',', 'this', 'movie', 'has', 'a', 'lot', 'of', 'reviews', 'for', 'this', 'movie', 'is'] -> just\n",
            "\n",
            "\n",
            "generated text:\n",
            "i have a lot of people , this movie has a lot of reviews for this movie is just\n",
            "\n"
          ]
        }
      ],
      "source": [
        "class inference():\n",
        "    # Arguments\n",
        "    '''\n",
        "    max_tokens: Integer, the number of tokens to be generated after prompt.\n",
        "    start_tokens: List of integers, the token indices for the starting prompt.\n",
        "    index_to_word: List of strings, obtained from TextVectorization layer.\n",
        "    top_k: Integer, sample from the `top_k` token predictions.\n",
        "    print_every: Integer, print after this many epochs.\n",
        "    '''\n",
        "    \n",
        "    def __init__(self, model, max_tokens=40, index_to_word=vocab, word_to_index=word_to_index, top_k=10):\n",
        "        self.max_tokens = max_tokens\n",
        "        self.index_to_word = index_to_word\n",
        "        self.word_to_index = word_to_index\n",
        "        self.k = top_k\n",
        "        self.model = model\n",
        "        \n",
        "    def sample_from(self, logits):\n",
        "        logits, indices = tf.math.top_k(logits, k=self.k, sorted=True)  # indices : 상위 k개의 idx - [601,  16,   1, 175]\n",
        "        indices = np.asarray(indices).astype(\"int32\")  # to int\n",
        "        preds = keras.activations.softmax(tf.expand_dims(logits, 0))[0]  # k개를 softmax해서 합이 1이 되도록\n",
        "        preds = np.asarray(preds).astype(\"float32\")  # [0.40734288, 0.23856187, 0.19533157, 0.15876363]\n",
        "        # indices : [601,  16,   1, 175]\n",
        "        # preds  : [0.40734288, 0.23856187, 0.19533157, 0.15876363]\n",
        "        # preds 확률로 indices 랜덤선택\n",
        "        return np.random.choice(indices, p=preds)\n",
        "\n",
        "    def detokenize(self, number):\n",
        "        return self.index_to_word[number]        \n",
        "        \n",
        "    def generate_sentence(self, start_prompt='i have a dream'):\n",
        "        self.start_prompt = start_prompt\n",
        "        self.start_tokens = [self.word_to_index.get(_, 1) for _ in self.start_prompt.split()]\n",
        "        self.initial_tokens = self.start_tokens\n",
        "        print(start_prompt,'->', self.start_tokens)\n",
        "        self.start_tokens = [_ for _ in self.start_tokens]  # [13, 18, 9]\n",
        "        num_tokens_generated = 0\n",
        "        \n",
        "        \n",
        "        num_tokens_generated = 0\n",
        "        tokens_generated = []\n",
        "        while num_tokens_generated <= self.max_tokens:\n",
        "            # start_tokens 갯수에 맞게 padding\n",
        "            # [13, 18, 9] -> [13, 18, 9, 0, 0, 0, ...]\n",
        "            pad_len = maxlen - len(self.start_tokens)  # 최대 생성길이 100 에서 입력 token갯수를 뺀게 padding 길이\n",
        "            sample_index = len(self.start_tokens) - 1\n",
        "            if pad_len < 0:\n",
        "                x = self.start_tokens[:maxlen]\n",
        "                sample_index = maxlen - 1\n",
        "            elif pad_len > 0:\n",
        "                x = self.start_tokens + [0] * pad_len\n",
        "            else:\n",
        "                x = self.start_tokens\n",
        "\n",
        "            # 입력 x, 출력 y\n",
        "            x = np.array([x])  # [13, 18, 9, 0, 0, 0, ...] -> [[13, 18, 9, 0, 0, 0, ...]]\n",
        "            y, _ = self.model.predict(x)  # y.shape : (1, seq_len, vocab)\n",
        "\n",
        "            sample_token = self.sample_from(y[0][sample_index])  # 입력 : 0번째 batch의 2번째 sample idx값 1000개(vocab)\n",
        "            tokens_generated.append(sample_token)\n",
        "            self.start_tokens.append(sample_token)\n",
        "            num_tokens_generated = len(tokens_generated)\n",
        "\n",
        "            print('%s -> %s'%([self.detokenize(_) for _ in self.start_tokens[:-1]], self.detokenize(tokens_generated[-1])))\n",
        "        txt = \" \".join([self.detokenize(_) for _ in self.initial_tokens + tokens_generated])\n",
        "        print('\\n\\ngenerated text:\\n%s\\n'%(txt))\n",
        "        \n",
        "start_prompt = 'i have a'\n",
        "model_inference = inference(model, max_tokens=15, index_to_word=vocab, word_to_index=word_to_index, top_k=10)\n",
        "model_inference.generate_sentence(start_prompt)"
      ]
    },
    {
      "cell_type": "code",
      "execution_count": null,
      "metadata": {
        "colab": {
          "base_uri": "https://localhost:8080/"
        },
        "id": "pZeo4w7JTYG8",
        "outputId": "50b5a920-028b-48a4-df0e-7a46b571dbc0"
      },
      "outputs": [
        {
          "name": "stdout",
          "output_type": "stream",
          "text": [
            "i need your -> [12, 364, 136]\n",
            "['i', 'need', 'your'] -> idea\n",
            "['i', 'need', 'your', 'idea'] -> that\n",
            "['i', 'need', 'your', 'idea', 'that'] -> a\n",
            "['i', 'need', 'your', 'idea', 'that', 'a'] -> movie\n",
            "['i', 'need', 'your', 'idea', 'that', 'a', 'movie'] -> should\n",
            "['i', 'need', 'your', 'idea', 'that', 'a', 'movie', 'should'] -> have\n",
            "['i', 'need', 'your', 'idea', 'that', 'a', 'movie', 'should', 'have'] -> had\n",
            "['i', 'need', 'your', 'idea', 'that', 'a', 'movie', 'should', 'have', 'had'] -> .\n",
            "['i', 'need', 'your', 'idea', 'that', 'a', 'movie', 'should', 'have', 'had', '.'] -> i\n",
            "['i', 'need', 'your', 'idea', 'that', 'a', 'movie', 'should', 'have', 'had', '.', 'i'] -> hope\n",
            "['i', 'need', 'your', 'idea', 'that', 'a', 'movie', 'should', 'have', 'had', '.', 'i', 'hope'] -> it\n",
            "['i', 'need', 'your', 'idea', 'that', 'a', 'movie', 'should', 'have', 'had', '.', 'i', 'hope', 'it'] -> is\n",
            "['i', 'need', 'your', 'idea', 'that', 'a', 'movie', 'should', 'have', 'had', '.', 'i', 'hope', 'it', 'is'] -> not\n",
            "['i', 'need', 'your', 'idea', 'that', 'a', 'movie', 'should', 'have', 'had', '.', 'i', 'hope', 'it', 'is', 'not'] -> for\n",
            "['i', 'need', 'your', 'idea', 'that', 'a', 'movie', 'should', 'have', 'had', '.', 'i', 'hope', 'it', 'is', 'not', 'for'] -> this\n",
            "['i', 'need', 'your', 'idea', 'that', 'a', 'movie', 'should', 'have', 'had', '.', 'i', 'hope', 'it', 'is', 'not', 'for', 'this'] -> movie\n",
            "\n",
            "\n",
            "generated text:\n",
            "i need your idea that a movie should have had . i hope it is not for this movie\n",
            "\n"
          ]
        }
      ],
      "source": [
        "model_inference.generate_sentence('i need your')"
      ]
    },
    {
      "cell_type": "code",
      "execution_count": null,
      "metadata": {
        "colab": {
          "base_uri": "https://localhost:8080/"
        },
        "id": "7Dq5KCqjTYG9",
        "outputId": "a6e99bcd-4117-4bf1-b174-535ce107e720"
      },
      "outputs": [
        {
          "name": "stdout",
          "output_type": "stream",
          "text": [
            "show me the money -> [125, 76, 2, 298]\n",
            "['show', 'me', 'the', 'money'] -> spent\n",
            "['show', 'me', 'the', 'money', 'spent'] -> on\n",
            "['show', 'me', 'the', 'money', 'spent', 'on'] -> this\n",
            "['show', 'me', 'the', 'money', 'spent', 'on', 'this'] -> week\n",
            "['show', 'me', 'the', 'money', 'spent', 'on', 'this', 'week'] -> and\n",
            "['show', 'me', 'the', 'money', 'spent', 'on', 'this', 'week', 'and'] -> i\n",
            "['show', 'me', 'the', 'money', 'spent', 'on', 'this', 'week', 'and', 'i'] -> have\n",
            "['show', 'me', 'the', 'money', 'spent', 'on', 'this', 'week', 'and', 'i', 'have'] -> to\n",
            "['show', 'me', 'the', 'money', 'spent', 'on', 'this', 'week', 'and', 'i', 'have', 'to'] -> say\n",
            "['show', 'me', 'the', 'money', 'spent', 'on', 'this', 'week', 'and', 'i', 'have', 'to', 'say'] -> the\n",
            "['show', 'me', 'the', 'money', 'spent', 'on', 'this', 'week', 'and', 'i', 'have', 'to', 'say', 'the'] -> most\n",
            "['show', 'me', 'the', 'money', 'spent', 'on', 'this', 'week', 'and', 'i', 'have', 'to', 'say', 'the', 'most'] -> important\n",
            "['show', 'me', 'the', 'money', 'spent', 'on', 'this', 'week', 'and', 'i', 'have', 'to', 'say', 'the', 'most', 'important'] -> clerks\n",
            "['show', 'me', 'the', 'money', 'spent', 'on', 'this', 'week', 'and', 'i', 'have', 'to', 'say', 'the', 'most', 'important', 'clerks'] -> .\n",
            "['show', 'me', 'the', 'money', 'spent', 'on', 'this', 'week', 'and', 'i', 'have', 'to', 'say', 'the', 'most', 'important', 'clerks', '.'] -> i\n",
            "['show', 'me', 'the', 'money', 'spent', 'on', 'this', 'week', 'and', 'i', 'have', 'to', 'say', 'the', 'most', 'important', 'clerks', '.', 'i'] -> think\n",
            "\n",
            "\n",
            "generated text:\n",
            "show me the money spent on this week and i have to say the most important clerks . i think\n",
            "\n"
          ]
        }
      ],
      "source": [
        "model_inference.generate_sentence('show me the money')"
      ]
    },
    {
      "cell_type": "code",
      "execution_count": null,
      "metadata": {
        "id": "yuiMAsbITYG9"
      },
      "outputs": [],
      "source": []
    }
  ],
  "metadata": {
    "accelerator": "GPU",
    "colab": {
      "collapsed_sections": [],
      "name": "gpt_tutorial_colab.ipynb",
      "provenance": []
    },
    "kernelspec": {
      "display_name": "Python 3",
      "language": "python",
      "name": "python3"
    },
    "language_info": {
      "codemirror_mode": {
        "name": "ipython",
        "version": 3
      },
      "file_extension": ".py",
      "mimetype": "text/x-python",
      "name": "python",
      "nbconvert_exporter": "python",
      "pygments_lexer": "ipython3",
      "version": "3.6.10"
    },
    "varInspector": {
      "cols": {
        "lenName": 16,
        "lenType": 16,
        "lenVar": 40
      },
      "kernels_config": {
        "python": {
          "delete_cmd_postfix": "",
          "delete_cmd_prefix": "del ",
          "library": "var_list.py",
          "varRefreshCmd": "print(var_dic_list())"
        },
        "r": {
          "delete_cmd_postfix": ") ",
          "delete_cmd_prefix": "rm(",
          "library": "var_list.r",
          "varRefreshCmd": "cat(var_dic_list()) "
        }
      },
      "types_to_exclude": [
        "module",
        "function",
        "builtin_function_or_method",
        "instance",
        "_Feature"
      ],
      "window_display": false
    }
  },
  "nbformat": 4,
  "nbformat_minor": 0
}
